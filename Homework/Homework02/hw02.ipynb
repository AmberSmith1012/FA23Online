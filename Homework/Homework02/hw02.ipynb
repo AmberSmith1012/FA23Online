{
 "cells": [
  {
   "cell_type": "code",
   "execution_count": null,
   "metadata": {
    "deletable": false,
    "editable": false
   },
   "outputs": [],
   "source": [
    "# Initialize Otter\n",
    "import otter\n",
    "grader = otter.Notebook(\"hw02.ipynb\")"
   ]
  },
  {
   "cell_type": "markdown",
   "metadata": {},
   "source": [
    "# Homework 02: Arrays and Tables\n",
    "\n",
    "Please complete this notebook by filling in the cells provided. Before you begin, execute the following cell to load the provided tests."
   ]
  },
  {
   "cell_type": "code",
   "execution_count": null,
   "metadata": {
    "execution": {
     "iopub.execute_input": "2023-02-03T15:47:57.215524Z",
     "iopub.status.busy": "2023-02-03T15:47:57.215168Z",
     "iopub.status.idle": "2023-02-03T15:47:59.091122Z",
     "shell.execute_reply": "2023-02-03T15:47:59.090231Z"
    }
   },
   "outputs": [],
   "source": [
    "# Don't change this cell; just run it. \n",
    "# When you log-in please hit return (not shift + return) after typing in your email\n",
    "import numpy as np\n",
    "from datascience import *"
   ]
  },
  {
   "cell_type": "markdown",
   "metadata": {},
   "source": [
    "**Helpful Resource:**\n",
    "- [Python Reference](http://data8.org/sp21/python-reference.html): Cheat sheet of helpful array & table methods used in this course.\n",
    "\n",
    "**Recommended Reading:**\n",
    "- [What is Data Science](http://www.inferentialthinking.com/chapters/01/what-is-data-science.html)\n",
    "- [Causality and Experiments](http://www.inferentialthinking.com/chapters/02/causality-and-experiments.html) \n",
    "- [Programming in Python](http://www.inferentialthinking.com/chapters/03/programming-in-python.html)\n",
    "\n",
    "For all problems that you must write explanations and sentences for, you **must** provide your answer in the designated space. Moreover, throughout this homework and all future ones, please be sure to not re-assign variables throughout the notebook! For example, if you use `max_temperature` in your answer to one question, do not reassign it later on. Otherwise, you will fail tests that you thought you were passing previously!\n",
    "\n",
    "**Deadline:**\n",
    "\n",
    "This assignment is due by the deadline listed in Canvas/Gradescope. Start early so that you can come to office hours if you're stuck. Check the course website for the office hours schedule. Late work will not be accepted as per the course expectations. Late work will not be accepted without advanced permission as per the course expectations document, so plan accordingly. You should start early so that you have time to get help if you're stuck. Office hours are held throughout the week, so be sure to use them if needed.\n",
    "\n",
    "\n",
    "### **Note: This homework has hidden tests on it. That means even though tests may say 100% passed, doesn't mean your final grade will be 100%. We will be running more tests for correctness once everyone turns in the homework.**\n",
    "\n",
    "Directly sharing answers is not okay, but discussing problems with the course staff or with other students is encouraged. Refer to the course expectations to learn more about how to learn cooperatively.\n",
    "\n",
    "You should start early so that you have time to get help if you're stuck."
   ]
  },
  {
   "cell_type": "markdown",
   "metadata": {},
   "source": [
    "## 1. Creating Arrays"
   ]
  },
  {
   "cell_type": "markdown",
   "metadata": {},
   "source": [
    "#### Question 1.1.\n",
    "Make an **array** called `weird_numbers` containing the following numbers (in the given order):\n",
    "\n",
    "1. $-2$\n",
    "2. $\\sin(12)$\n",
    "3. $3$\n",
    "4. $5^{\\cos(12)}$\n",
    "\n",
    "**Hint:** `sin` and `cos` are functions in the `math` module. Importing modules is covered in a previous lab! You should import the module in your solution cell below.\n",
    "\n",
    "*Note:* Python lists are different/behave differently than numpy arrays. In this course, we use `numpy` arrays, so please make an **array**, not a python list.\n",
    "\n",
    "```\n",
    "BEGIN QUESTION\n",
    "name: q1_1\n",
    "```"
   ]
  },
  {
   "cell_type": "code",
   "execution_count": null,
   "metadata": {
    "execution": {
     "iopub.execute_input": "2023-02-03T15:47:59.095134Z",
     "iopub.status.busy": "2023-02-03T15:47:59.094706Z",
     "iopub.status.idle": "2023-02-03T15:47:59.107355Z",
     "shell.execute_reply": "2023-02-03T15:47:59.106408Z"
    }
   },
   "outputs": [],
   "source": [
    "# Our solution involved one extra line of code before creating\n",
    "# weird_numbers.\n",
    "import math # SOLUTION\n",
    "weird_numbers = make_array(-2, math.sin(12), 3, 5**math.cos(12) ) # SOLUTION\n",
    "weird_numbers"
   ]
  },
  {
   "cell_type": "code",
   "execution_count": null,
   "metadata": {
    "execution": {
     "iopub.execute_input": "2023-02-03T15:47:59.156421Z",
     "iopub.status.busy": "2023-02-03T15:47:59.156076Z",
     "iopub.status.idle": "2023-02-03T15:47:59.162251Z",
     "shell.execute_reply": "2023-02-03T15:47:59.161252Z"
    }
   },
   "outputs": [],
   "source": [
    "# TEST\n",
    "isinstance(weird_numbers, np.ndarray)"
   ]
  },
  {
   "cell_type": "code",
   "execution_count": null,
   "metadata": {
    "execution": {
     "iopub.execute_input": "2023-02-03T15:47:59.166231Z",
     "iopub.status.busy": "2023-02-03T15:47:59.165533Z",
     "iopub.status.idle": "2023-02-03T15:47:59.170531Z",
     "shell.execute_reply": "2023-02-03T15:47:59.169766Z"
    }
   },
   "outputs": [],
   "source": [
    "# TEST\n",
    "len(weird_numbers)"
   ]
  },
  {
   "cell_type": "code",
   "execution_count": null,
   "metadata": {
    "execution": {
     "iopub.execute_input": "2023-02-03T15:47:59.173838Z",
     "iopub.status.busy": "2023-02-03T15:47:59.173575Z",
     "iopub.status.idle": "2023-02-03T15:47:59.179350Z",
     "shell.execute_reply": "2023-02-03T15:47:59.178621Z"
    }
   },
   "outputs": [],
   "source": [
    "# TEST\n",
    "np.allclose(weird_numbers, np.array([-2., -0.53657292,  3.,  3.88891638]), rtol=1e-03, atol=1e-03)"
   ]
  },
  {
   "cell_type": "markdown",
   "metadata": {},
   "source": [
    "#### Question 1.2.\n",
    "Make an array called `book_title_words` containing the following three strings: \"Eats\", \"Shoots\", and \"and Leaves\".\n",
    "\n",
    "```\n",
    "BEGIN QUESTION\n",
    "name: q1_2\n",
    "```"
   ]
  },
  {
   "cell_type": "code",
   "execution_count": null,
   "metadata": {
    "execution": {
     "iopub.execute_input": "2023-02-03T15:47:59.182866Z",
     "iopub.status.busy": "2023-02-03T15:47:59.182524Z",
     "iopub.status.idle": "2023-02-03T15:47:59.188778Z",
     "shell.execute_reply": "2023-02-03T15:47:59.187706Z"
    }
   },
   "outputs": [],
   "source": [
    "book_title_words = make_array('Eats', 'Shoots', 'and Leaves') # SOLUTION\n",
    "book_title_words"
   ]
  },
  {
   "cell_type": "code",
   "execution_count": null,
   "metadata": {
    "execution": {
     "iopub.execute_input": "2023-02-03T15:47:59.192838Z",
     "iopub.status.busy": "2023-02-03T15:47:59.192000Z",
     "iopub.status.idle": "2023-02-03T15:47:59.198293Z",
     "shell.execute_reply": "2023-02-03T15:47:59.197263Z"
    }
   },
   "outputs": [],
   "source": [
    "# TEST\n",
    "type(book_title_words) == np.ndarray"
   ]
  },
  {
   "cell_type": "code",
   "execution_count": null,
   "metadata": {
    "execution": {
     "iopub.execute_input": "2023-02-03T15:47:59.201742Z",
     "iopub.status.busy": "2023-02-03T15:47:59.201461Z",
     "iopub.status.idle": "2023-02-03T15:47:59.207581Z",
     "shell.execute_reply": "2023-02-03T15:47:59.206602Z"
    }
   },
   "outputs": [],
   "source": [
    "# TEST\n",
    "not any([',' in text for text in book_title_words])"
   ]
  },
  {
   "cell_type": "code",
   "execution_count": null,
   "metadata": {
    "execution": {
     "iopub.execute_input": "2023-02-03T15:47:59.242600Z",
     "iopub.status.busy": "2023-02-03T15:47:59.242253Z",
     "iopub.status.idle": "2023-02-03T15:47:59.248933Z",
     "shell.execute_reply": "2023-02-03T15:47:59.247888Z"
    }
   },
   "outputs": [],
   "source": [
    "# TEST\n",
    "'and ' in book_title_words.item(2)"
   ]
  },
  {
   "cell_type": "code",
   "execution_count": null,
   "metadata": {
    "execution": {
     "iopub.execute_input": "2023-02-03T15:47:59.252652Z",
     "iopub.status.busy": "2023-02-03T15:47:59.252345Z",
     "iopub.status.idle": "2023-02-03T15:47:59.258361Z",
     "shell.execute_reply": "2023-02-03T15:47:59.257539Z"
    }
   },
   "outputs": [],
   "source": [
    "# TEST\n",
    "len(book_title_words)"
   ]
  },
  {
   "cell_type": "code",
   "execution_count": null,
   "metadata": {
    "execution": {
     "iopub.execute_input": "2023-02-03T15:47:59.261809Z",
     "iopub.status.busy": "2023-02-03T15:47:59.261531Z",
     "iopub.status.idle": "2023-02-03T15:47:59.267337Z",
     "shell.execute_reply": "2023-02-03T15:47:59.266417Z"
    }
   },
   "outputs": [],
   "source": [
    "# TEST\n",
    "book_title_words"
   ]
  },
  {
   "cell_type": "markdown",
   "metadata": {},
   "source": [
    "### `join`\n",
    "Strings have a method called `join`.  `join` takes one argument, an array of strings.  It returns a single string.  Specifically, the value of `a_string.join(an_array)` is a single string that's the [concatenation](https://en.wikipedia.org/wiki/Concatenation) (\"putting together\") of all the strings in `an_array`, **except** `a_string` is inserted in between each string in the array."
   ]
  },
  {
   "cell_type": "markdown",
   "metadata": {},
   "source": [
    "#### Question 1.3. \n",
    "Use the array `book_title_words` and the method `join` to make two strings:\n",
    "\n",
    "1. \"Eats, Shoots, and Leaves\" (call this one `with_commas`)\n",
    "2. \"Eats Shoots and Leaves\" (call this one `without_commas`)\n",
    "\n",
    "*Hint:* If you're not sure what `join` does, first try just calling, for example, `\"foo\".join(book_title_words)` .\n",
    "\n",
    "```\n",
    "BEGIN QUESTION\n",
    "name: q1_3\n",
    "```"
   ]
  },
  {
   "cell_type": "code",
   "execution_count": null,
   "metadata": {
    "execution": {
     "iopub.execute_input": "2023-02-03T15:47:59.270875Z",
     "iopub.status.busy": "2023-02-03T15:47:59.270592Z",
     "iopub.status.idle": "2023-02-03T15:47:59.276192Z",
     "shell.execute_reply": "2023-02-03T15:47:59.275129Z"
    }
   },
   "outputs": [],
   "source": [
    "with_commas = ', '.join(book_title_words) # SOLUTION\n",
    "without_commas = ' '.join(book_title_words) # SOLUTION\n",
    "\n",
    "print('with commas: ', with_commas)\n",
    "print('without commas: ', without_commas)"
   ]
  },
  {
   "cell_type": "code",
   "execution_count": null,
   "metadata": {
    "execution": {
     "iopub.execute_input": "2023-02-03T15:47:59.279457Z",
     "iopub.status.busy": "2023-02-03T15:47:59.279181Z",
     "iopub.status.idle": "2023-02-03T15:47:59.284673Z",
     "shell.execute_reply": "2023-02-03T15:47:59.283741Z"
    }
   },
   "outputs": [],
   "source": [
    "# TEST\n",
    "',' in with_commas"
   ]
  },
  {
   "cell_type": "code",
   "execution_count": null,
   "metadata": {
    "execution": {
     "iopub.execute_input": "2023-02-03T15:47:59.288091Z",
     "iopub.status.busy": "2023-02-03T15:47:59.287822Z",
     "iopub.status.idle": "2023-02-03T15:47:59.293913Z",
     "shell.execute_reply": "2023-02-03T15:47:59.292982Z"
    }
   },
   "outputs": [],
   "source": [
    "# TEST\n",
    "',' not in without_commas"
   ]
  },
  {
   "cell_type": "code",
   "execution_count": null,
   "metadata": {
    "execution": {
     "iopub.execute_input": "2023-02-03T15:47:59.297156Z",
     "iopub.status.busy": "2023-02-03T15:47:59.296894Z",
     "iopub.status.idle": "2023-02-03T15:47:59.341941Z",
     "shell.execute_reply": "2023-02-03T15:47:59.301535Z"
    }
   },
   "outputs": [],
   "source": [
    "# TEST\n",
    "len(with_commas)"
   ]
  },
  {
   "cell_type": "code",
   "execution_count": null,
   "metadata": {
    "execution": {
     "iopub.execute_input": "2023-02-03T15:47:59.346122Z",
     "iopub.status.busy": "2023-02-03T15:47:59.345802Z",
     "iopub.status.idle": "2023-02-03T15:47:59.351753Z",
     "shell.execute_reply": "2023-02-03T15:47:59.350801Z"
    }
   },
   "outputs": [],
   "source": [
    "# TEST\n",
    "len(without_commas)"
   ]
  },
  {
   "cell_type": "code",
   "execution_count": null,
   "metadata": {
    "execution": {
     "iopub.execute_input": "2023-02-03T15:47:59.355299Z",
     "iopub.status.busy": "2023-02-03T15:47:59.354966Z",
     "iopub.status.idle": "2023-02-03T15:47:59.360867Z",
     "shell.execute_reply": "2023-02-03T15:47:59.359944Z"
    }
   },
   "outputs": [],
   "source": [
    "# TEST\n",
    "with_commas == 'Eats, Shoots, and Leaves'"
   ]
  },
  {
   "cell_type": "code",
   "execution_count": null,
   "metadata": {
    "execution": {
     "iopub.execute_input": "2023-02-03T15:47:59.364419Z",
     "iopub.status.busy": "2023-02-03T15:47:59.364106Z",
     "iopub.status.idle": "2023-02-03T15:47:59.369968Z",
     "shell.execute_reply": "2023-02-03T15:47:59.369092Z"
    }
   },
   "outputs": [],
   "source": [
    "# TEST\n",
    "without_commas == 'Eats Shoots and Leaves'"
   ]
  },
  {
   "cell_type": "markdown",
   "metadata": {},
   "source": [
    "## 2. Indexing Arrays\n",
    "\n",
    "These exercises give you practice accessing individual elements of arrays.  In Python (and in many programming languages), elements are accessed by *index*, so the first element is the element at index 0.\n",
    "\n",
    "***Note:* If you have previous coding experience, you may be familiar with bracket notation. DO NOT use bracket notation when indexing (i.e. `arr[0]`), as this can yield different data type outputs than what we will be expecting. This can cause you to fail an autograder test.**\n",
    "\n",
    "Be sure to refer to the [Python Reference](http://data8.org/fa20/python-reference.html) on the website if you feel stuck!"
   ]
  },
  {
   "cell_type": "markdown",
   "metadata": {},
   "source": [
    "#### Question 2.1.\n",
    "The cell below creates an array of some numbers.  Set `third_element` to the third element of `some_numbers`.\n",
    "\n",
    "```\n",
    "BEGIN QUESTION\n",
    "name: q2_1\n",
    "```"
   ]
  },
  {
   "cell_type": "code",
   "execution_count": null,
   "metadata": {
    "execution": {
     "iopub.execute_input": "2023-02-03T15:47:59.373600Z",
     "iopub.status.busy": "2023-02-03T15:47:59.373313Z",
     "iopub.status.idle": "2023-02-03T15:47:59.379790Z",
     "shell.execute_reply": "2023-02-03T15:47:59.378773Z"
    }
   },
   "outputs": [],
   "source": [
    "some_numbers = make_array(-1, -3, -6, -10, -15)\n",
    "\n",
    "third_element = some_numbers.item(2) # SOLUTION\n",
    "third_element"
   ]
  },
  {
   "cell_type": "code",
   "execution_count": null,
   "metadata": {
    "execution": {
     "iopub.execute_input": "2023-02-03T15:47:59.383090Z",
     "iopub.status.busy": "2023-02-03T15:47:59.382794Z",
     "iopub.status.idle": "2023-02-03T15:47:59.388815Z",
     "shell.execute_reply": "2023-02-03T15:47:59.387749Z"
    }
   },
   "outputs": [],
   "source": [
    "# TEST\n",
    "type(third_element) == int or type(third_element) == numpy.int64"
   ]
  },
  {
   "cell_type": "code",
   "execution_count": null,
   "metadata": {
    "execution": {
     "iopub.execute_input": "2023-02-03T15:47:59.392237Z",
     "iopub.status.busy": "2023-02-03T15:47:59.391937Z",
     "iopub.status.idle": "2023-02-03T15:47:59.397744Z",
     "shell.execute_reply": "2023-02-03T15:47:59.396763Z"
    }
   },
   "outputs": [],
   "source": [
    "# TEST\n",
    "# It would appear you wrote:\n",
    "# some_numbers.item(3)\n",
    "# But the third element has index 2,\n",
    "# not an index of 3\n",
    "third_element != -10"
   ]
  },
  {
   "cell_type": "code",
   "execution_count": null,
   "metadata": {
    "execution": {
     "iopub.execute_input": "2023-02-03T15:47:59.401074Z",
     "iopub.status.busy": "2023-02-03T15:47:59.400787Z",
     "iopub.status.idle": "2023-02-03T15:47:59.442029Z",
     "shell.execute_reply": "2023-02-03T15:47:59.405594Z"
    }
   },
   "outputs": [],
   "source": [
    "# TEST\n",
    "third_element"
   ]
  },
  {
   "cell_type": "markdown",
   "metadata": {},
   "source": [
    "#### Question 2.2.\n",
    "The next cell creates a table that displays some information about the elements of `some_numbers` and their order.  Run the cell to see the partially-completed table, then fill in the missing information (the cells that say \"Ellipsis\") by assigning `blank_a`, `blank_b`, `blank_c`, and `blank_d` to the correct elements in the table.\n",
    "\n",
    "**Hint:*** Replace the ... with strings or numbers.\n",
    "\n",
    "```\n",
    "BEGIN QUESTION\n",
    "name: q2_2\n",
    "```"
   ]
  },
  {
   "cell_type": "code",
   "execution_count": null,
   "metadata": {
    "execution": {
     "iopub.execute_input": "2023-02-03T15:47:59.446640Z",
     "iopub.status.busy": "2023-02-03T15:47:59.446265Z",
     "iopub.status.idle": "2023-02-03T15:47:59.455411Z",
     "shell.execute_reply": "2023-02-03T15:47:59.454326Z"
    }
   },
   "outputs": [],
   "source": [
    "blank_a = 'third' # SOLUTION\n",
    "blank_b = 'fourth' # SOLUTION\n",
    "blank_c = 0 # SOLUTION\n",
    "blank_d = 3 # SOLUTION\n",
    "\n",
    "# Don't change anything below this line!\n",
    "elements_of_some_numbers = Table().with_columns(\n",
    "    \"English name for position\", make_array(\"first\", \"second\", blank_a, blank_b, \"fifth\"),\n",
    "    \"Index\",                     make_array(blank_c, 1, 2, blank_d, 4),\n",
    "    \"Element\",                   some_numbers)\n",
    "elements_of_some_numbers"
   ]
  },
  {
   "cell_type": "code",
   "execution_count": null,
   "metadata": {
    "execution": {
     "iopub.execute_input": "2023-02-03T15:47:59.459873Z",
     "iopub.status.busy": "2023-02-03T15:47:59.458728Z",
     "iopub.status.idle": "2023-02-03T15:47:59.465859Z",
     "shell.execute_reply": "2023-02-03T15:47:59.464673Z"
    }
   },
   "outputs": [],
   "source": [
    "# TEST\n",
    "elements_of_some_numbers.column(0).item(2)"
   ]
  },
  {
   "cell_type": "code",
   "execution_count": null,
   "metadata": {
    "execution": {
     "iopub.execute_input": "2023-02-03T15:47:59.469951Z",
     "iopub.status.busy": "2023-02-03T15:47:59.469129Z",
     "iopub.status.idle": "2023-02-03T15:47:59.475886Z",
     "shell.execute_reply": "2023-02-03T15:47:59.474900Z"
    }
   },
   "outputs": [],
   "source": [
    "# TEST\n",
    "elements_of_some_numbers.column(0).item(3)"
   ]
  },
  {
   "cell_type": "code",
   "execution_count": null,
   "metadata": {
    "execution": {
     "iopub.execute_input": "2023-02-03T15:47:59.480360Z",
     "iopub.status.busy": "2023-02-03T15:47:59.479373Z",
     "iopub.status.idle": "2023-02-03T15:47:59.485715Z",
     "shell.execute_reply": "2023-02-03T15:47:59.484522Z"
    }
   },
   "outputs": [],
   "source": [
    "# TEST\n",
    "elements_of_some_numbers.column(1).item(0)"
   ]
  },
  {
   "cell_type": "code",
   "execution_count": null,
   "metadata": {
    "execution": {
     "iopub.execute_input": "2023-02-03T15:47:59.489022Z",
     "iopub.status.busy": "2023-02-03T15:47:59.488691Z",
     "iopub.status.idle": "2023-02-03T15:47:59.495000Z",
     "shell.execute_reply": "2023-02-03T15:47:59.493955Z"
    }
   },
   "outputs": [],
   "source": [
    "# TEST\n",
    "elements_of_some_numbers.column(1).item(3)"
   ]
  },
  {
   "cell_type": "markdown",
   "metadata": {},
   "source": [
    "#### Question 2.3.\n",
    "You'll sometimes want to find the *last* element of an array.  Suppose an array has 142 elements.  What is the index of its last element?\n",
    "\n",
    "```\n",
    "BEGIN QUESTION\n",
    "name: q2_3\n",
    "```"
   ]
  },
  {
   "cell_type": "code",
   "execution_count": null,
   "metadata": {
    "execution": {
     "iopub.execute_input": "2023-02-03T15:47:59.498621Z",
     "iopub.status.busy": "2023-02-03T15:47:59.498309Z",
     "iopub.status.idle": "2023-02-03T15:47:59.503209Z",
     "shell.execute_reply": "2023-02-03T15:47:59.502058Z"
    }
   },
   "outputs": [],
   "source": [
    "index_of_last_element = 141 # SOLUTION"
   ]
  },
  {
   "cell_type": "code",
   "execution_count": null,
   "metadata": {
    "execution": {
     "iopub.execute_input": "2023-02-03T15:47:59.506780Z",
     "iopub.status.busy": "2023-02-03T15:47:59.506503Z",
     "iopub.status.idle": "2023-02-03T15:47:59.544870Z",
     "shell.execute_reply": "2023-02-03T15:47:59.543926Z"
    }
   },
   "outputs": [],
   "source": [
    "# TEST\n",
    "index_of_last_element"
   ]
  },
  {
   "cell_type": "markdown",
   "metadata": {},
   "source": [
    "More often, you don't know the number of elements in an array, its *length*.  (For example, it might be a large dataset you found on the Internet.)  The function `len` takes a single argument, an array, and returns the `len`gth of that array (an integer)."
   ]
  },
  {
   "cell_type": "markdown",
   "metadata": {},
   "source": [
    "#### Question 2.4.\n",
    "The cell below loads an array called `president_birth_years`.  Calling `.column(...)` on a table returns an array of the column specified, in this case the `Birth Year` column of the `president_births` table. The last element in that array is the most recent birth year of any deceased president. Assign that year to `most_recent_birth_year`. Your solution should used both the `len(...)` and `.item(...)` functions, and you should not have to know the number of rows in `president_birth_years` to answer this question. Your code should be able to work no matter how big or small `president_birth_years` might be.\n",
    "\n",
    "```\n",
    "BEGIN QUESTION\n",
    "name: q2_4\n",
    "```"
   ]
  },
  {
   "cell_type": "code",
   "execution_count": null,
   "metadata": {
    "execution": {
     "iopub.execute_input": "2023-02-03T15:47:59.548439Z",
     "iopub.status.busy": "2023-02-03T15:47:59.548110Z",
     "iopub.status.idle": "2023-02-03T15:47:59.559094Z",
     "shell.execute_reply": "2023-02-03T15:47:59.558239Z"
    }
   },
   "outputs": [],
   "source": [
    "president_birth_years = Table.read_table(\"president_births.csv\").column('Birth Year')\n",
    "\n",
    "most_recent_birth_year = president_birth_years.item( len( president_birth_years ) - 1 ) # SOLUTION\n",
    "most_recent_birth_year"
   ]
  },
  {
   "cell_type": "code",
   "execution_count": null,
   "metadata": {
    "execution": {
     "iopub.execute_input": "2023-02-03T15:47:59.562732Z",
     "iopub.status.busy": "2023-02-03T15:47:59.562432Z",
     "iopub.status.idle": "2023-02-03T15:47:59.567825Z",
     "shell.execute_reply": "2023-02-03T15:47:59.567026Z"
    }
   },
   "outputs": [],
   "source": [
    "# TEST\n",
    "most_recent_birth_year"
   ]
  },
  {
   "cell_type": "markdown",
   "metadata": {},
   "source": [
    "#### Question 2.5.\n",
    "Finally, assign `sum_of_birth_years` to the sum of the first, sixteenth, and last birth year in `president_birth_years`. Your solution should not include the actual years in the calculation, but rather references to the array where those years are stored.\n",
    "\n",
    "```\n",
    "BEGIN QUESTION\n",
    "name: q2_5\n",
    "```"
   ]
  },
  {
   "cell_type": "code",
   "execution_count": null,
   "metadata": {
    "execution": {
     "iopub.execute_input": "2023-02-03T15:47:59.571335Z",
     "iopub.status.busy": "2023-02-03T15:47:59.570808Z",
     "iopub.status.idle": "2023-02-03T15:47:59.576770Z",
     "shell.execute_reply": "2023-02-03T15:47:59.575995Z"
    }
   },
   "outputs": [],
   "source": [
    "sum_of_birth_years = president_birth_years.item(0) + president_birth_years.item(15) + most_recent_birth_year # SOLUTION\n",
    "sum_of_birth_years"
   ]
  },
  {
   "cell_type": "code",
   "execution_count": null,
   "metadata": {
    "execution": {
     "iopub.execute_input": "2023-02-03T15:47:59.579936Z",
     "iopub.status.busy": "2023-02-03T15:47:59.579662Z",
     "iopub.status.idle": "2023-02-03T15:47:59.585014Z",
     "shell.execute_reply": "2023-02-03T15:47:59.584145Z"
    }
   },
   "outputs": [],
   "source": [
    "# TEST\n",
    "sum_of_birth_years"
   ]
  },
  {
   "cell_type": "markdown",
   "metadata": {},
   "source": [
    "## 3. Basic Array Arithmetic"
   ]
  },
  {
   "cell_type": "markdown",
   "metadata": {},
   "source": [
    "#### Question 3.1.\n",
    "Multiply the numbers 42, -4224, 424224242, and 250 by 157. Assign each variable below such that `first_product` is assigned to the result of $42 \\cdot 157$, `second_product` is assigned to the result of $-4224 \\cdot 157$, and so on. \n",
    "\n",
    "For this question, **don't** use arrays.\n",
    "\n",
    "```\n",
    "BEGIN QUESTION\n",
    "name: q3_1\n",
    "```"
   ]
  },
  {
   "cell_type": "code",
   "execution_count": null,
   "metadata": {
    "execution": {
     "iopub.execute_input": "2023-02-03T15:47:59.588193Z",
     "iopub.status.busy": "2023-02-03T15:47:59.587923Z",
     "iopub.status.idle": "2023-02-03T15:47:59.593250Z",
     "shell.execute_reply": "2023-02-03T15:47:59.592235Z"
    }
   },
   "outputs": [],
   "source": [
    "first_product = 42 * 157 # SOLUTION\n",
    "second_product = -4224 * 157 # SOLUTION\n",
    "third_product = 424224242 * 157 # SOLUTION\n",
    "fourth_product = 250 * 157 # SOLUTION\n",
    "print(first_product, second_product, third_product, fourth_product)"
   ]
  },
  {
   "cell_type": "code",
   "execution_count": null,
   "metadata": {
    "execution": {
     "iopub.execute_input": "2023-02-03T15:47:59.596597Z",
     "iopub.status.busy": "2023-02-03T15:47:59.596066Z",
     "iopub.status.idle": "2023-02-03T15:47:59.601569Z",
     "shell.execute_reply": "2023-02-03T15:47:59.600713Z"
    }
   },
   "outputs": [],
   "source": [
    "# TEST\n",
    "first_product"
   ]
  },
  {
   "cell_type": "code",
   "execution_count": null,
   "metadata": {
    "execution": {
     "iopub.execute_input": "2023-02-03T15:47:59.605039Z",
     "iopub.status.busy": "2023-02-03T15:47:59.604621Z",
     "iopub.status.idle": "2023-02-03T15:47:59.645604Z",
     "shell.execute_reply": "2023-02-03T15:47:59.644275Z"
    }
   },
   "outputs": [],
   "source": [
    "# TEST\n",
    "second_product"
   ]
  },
  {
   "cell_type": "code",
   "execution_count": null,
   "metadata": {
    "execution": {
     "iopub.execute_input": "2023-02-03T15:47:59.649896Z",
     "iopub.status.busy": "2023-02-03T15:47:59.649597Z",
     "iopub.status.idle": "2023-02-03T15:47:59.655741Z",
     "shell.execute_reply": "2023-02-03T15:47:59.654907Z"
    }
   },
   "outputs": [],
   "source": [
    "# TEST\n",
    "third_product"
   ]
  },
  {
   "cell_type": "code",
   "execution_count": null,
   "metadata": {
    "execution": {
     "iopub.execute_input": "2023-02-03T15:47:59.659187Z",
     "iopub.status.busy": "2023-02-03T15:47:59.658884Z",
     "iopub.status.idle": "2023-02-03T15:47:59.664537Z",
     "shell.execute_reply": "2023-02-03T15:47:59.663668Z"
    }
   },
   "outputs": [],
   "source": [
    "# TEST\n",
    "fourth_product"
   ]
  },
  {
   "cell_type": "markdown",
   "metadata": {},
   "source": [
    "#### Question 3.2.\n",
    "Now, do the same calculation, but using an array called `numbers` that contains the 4 original numbers (42, -4224, 424224242, and 250) and only a single multiplication (`*`) operator.  Store the 4 results in an array named `products`.\n",
    "\n",
    "```\n",
    "BEGIN QUESTION\n",
    "name: q3_2\n",
    "```"
   ]
  },
  {
   "cell_type": "code",
   "execution_count": null,
   "metadata": {
    "execution": {
     "iopub.execute_input": "2023-02-03T15:47:59.667790Z",
     "iopub.status.busy": "2023-02-03T15:47:59.667519Z",
     "iopub.status.idle": "2023-02-03T15:47:59.673600Z",
     "shell.execute_reply": "2023-02-03T15:47:59.672624Z"
    }
   },
   "outputs": [],
   "source": [
    "numbers = make_array( 42, -4224, 424224242, 250) # SOLUTION\n",
    "products = numbers * 157 # SOLUTION\n",
    "products"
   ]
  },
  {
   "cell_type": "code",
   "execution_count": null,
   "metadata": {
    "execution": {
     "iopub.execute_input": "2023-02-03T15:47:59.677264Z",
     "iopub.status.busy": "2023-02-03T15:47:59.676599Z",
     "iopub.status.idle": "2023-02-03T15:47:59.682776Z",
     "shell.execute_reply": "2023-02-03T15:47:59.681727Z"
    }
   },
   "outputs": [],
   "source": [
    "# TEST\n",
    "np.allclose( products, np.array([6594, -663168, 66603205994, 39250]))"
   ]
  },
  {
   "cell_type": "markdown",
   "metadata": {},
   "source": [
    "#### Question 3.3.\n",
    "Oops, we made a typo!  Instead of 157, we wanted to multiply each number by 1577.  Compute the correct products in the cell below using array arithmetic.  Notice that your job is really easy if you previously defined an array containing the 4 numbers.\n",
    "\n",
    "```\n",
    "BEGIN QUESTION\n",
    "name: q3_3\n",
    "```"
   ]
  },
  {
   "cell_type": "code",
   "execution_count": null,
   "metadata": {
    "execution": {
     "iopub.execute_input": "2023-02-03T15:47:59.686353Z",
     "iopub.status.busy": "2023-02-03T15:47:59.686072Z",
     "iopub.status.idle": "2023-02-03T15:47:59.691978Z",
     "shell.execute_reply": "2023-02-03T15:47:59.691066Z"
    }
   },
   "outputs": [],
   "source": [
    "correct_products = numbers * 1577 # SOLUTION\n",
    "correct_products"
   ]
  },
  {
   "cell_type": "code",
   "execution_count": null,
   "metadata": {
    "execution": {
     "iopub.execute_input": "2023-02-03T15:47:59.695401Z",
     "iopub.status.busy": "2023-02-03T15:47:59.695069Z",
     "iopub.status.idle": "2023-02-03T15:47:59.743303Z",
     "shell.execute_reply": "2023-02-03T15:47:59.742184Z"
    }
   },
   "outputs": [],
   "source": [
    "# TEST\n",
    "np.allclose( correct_products, np.array([66234, -6661248, 669001629634, 394250]))"
   ]
  },
  {
   "cell_type": "markdown",
   "metadata": {},
   "source": [
    "#### Question 3.4.\n",
    "We've loaded an array of temperatures in the next cell.  Each number is the highest temperature observed on a day at a climate observation station, mostly from the US.  Since they're from the US government agency [NOAA](noaa.gov), all the temperatures are in Fahrenheit.  Convert them all to Celsius by first subtracting 32 from them, then multiplying the results by $\\frac{5}{9}$. Make sure to **ROUND** the final result after converting to Celsius to the nearest integer using the `np.round` function. `np.round` works a lot like the builtin `round` function in python, but it can operate on arrays.\n",
    "\n",
    "```\n",
    "BEGIN QUESTION\n",
    "name: q3_4\n",
    "```"
   ]
  },
  {
   "cell_type": "code",
   "execution_count": null,
   "metadata": {
    "execution": {
     "iopub.execute_input": "2023-02-03T15:47:59.747351Z",
     "iopub.status.busy": "2023-02-03T15:47:59.747027Z",
     "iopub.status.idle": "2023-02-03T15:47:59.875413Z",
     "shell.execute_reply": "2023-02-03T15:47:59.874480Z"
    }
   },
   "outputs": [],
   "source": [
    "max_temperatures = Table.read_table(\"temperatures.csv\").column(\"Daily Max Temperature\")\n",
    "\n",
    "celsius_max_temperatures = np.round(( max_temperatures - 32) * (5/9)) # SOLUTION\n",
    "celsius_max_temperatures"
   ]
  },
  {
   "cell_type": "code",
   "execution_count": null,
   "metadata": {
    "execution": {
     "iopub.execute_input": "2023-02-03T15:47:59.878833Z",
     "iopub.status.busy": "2023-02-03T15:47:59.878553Z",
     "iopub.status.idle": "2023-02-03T15:47:59.891131Z",
     "shell.execute_reply": "2023-02-03T15:47:59.890188Z"
    }
   },
   "outputs": [],
   "source": [
    "# TEST\n",
    "sum( celsius_max_temperatures ) != 356705.0"
   ]
  },
  {
   "cell_type": "code",
   "execution_count": null,
   "metadata": {
    "execution": {
     "iopub.execute_input": "2023-02-03T15:47:59.894715Z",
     "iopub.status.busy": "2023-02-03T15:47:59.894430Z",
     "iopub.status.idle": "2023-02-03T15:47:59.906784Z",
     "shell.execute_reply": "2023-02-03T15:47:59.905832Z"
    }
   },
   "outputs": [],
   "source": [
    "# TEST\n",
    "sum(celsius_max_temperatures)"
   ]
  },
  {
   "cell_type": "code",
   "execution_count": null,
   "metadata": {
    "execution": {
     "iopub.execute_input": "2023-02-03T15:47:59.910265Z",
     "iopub.status.busy": "2023-02-03T15:47:59.909957Z",
     "iopub.status.idle": "2023-02-03T15:47:59.915510Z",
     "shell.execute_reply": "2023-02-03T15:47:59.914555Z"
    }
   },
   "outputs": [],
   "source": [
    "# TEST\n",
    "len( celsius_max_temperatures )"
   ]
  },
  {
   "cell_type": "code",
   "execution_count": null,
   "metadata": {
    "execution": {
     "iopub.execute_input": "2023-02-03T15:47:59.919334Z",
     "iopub.status.busy": "2023-02-03T15:47:59.918797Z",
     "iopub.status.idle": "2023-02-03T15:47:59.944587Z",
     "shell.execute_reply": "2023-02-03T15:47:59.943710Z"
    }
   },
   "outputs": [],
   "source": [
    "# TEST\n",
    "celsius_max_temperatures.item(2003)"
   ]
  },
  {
   "cell_type": "markdown",
   "metadata": {},
   "source": [
    "#### Question 3.5.\n",
    "The cell below loads all the *lowest* temperatures from each day (in Fahrenheit).  Compute the size of the daily temperature range for each day.  That is, compute the difference between each daily maximum temperature and the corresponding daily minimum temperature.  **Pay attention to the units, give your answer in Celsius!** Make sure **NOT** to round your answer for this question! Note: Remember that in Question 3.4, `celsius_max_temperatures` was rounded, so you probably don't want to use that in this question.\n",
    "\n",
    "```\n",
    "BEGIN QUESTION\n",
    "name: q3_5\n",
    "```"
   ]
  },
  {
   "cell_type": "code",
   "execution_count": null,
   "metadata": {
    "execution": {
     "iopub.execute_input": "2023-02-03T15:47:59.948101Z",
     "iopub.status.busy": "2023-02-03T15:47:59.947774Z",
     "iopub.status.idle": "2023-02-03T15:48:00.079131Z",
     "shell.execute_reply": "2023-02-03T15:48:00.077768Z"
    }
   },
   "outputs": [],
   "source": [
    "min_temperatures = Table.read_table(\"temperatures.csv\").column(\"Daily Min Temperature\")\n",
    "\n",
    "celsius_temperature_ranges = (5/9) * (max_temperatures - min_temperatures) # SOLUTION\n",
    "celsius_temperature_ranges"
   ]
  },
  {
   "cell_type": "code",
   "execution_count": null,
   "metadata": {
    "execution": {
     "iopub.execute_input": "2023-02-03T15:48:00.083683Z",
     "iopub.status.busy": "2023-02-03T15:48:00.082734Z",
     "iopub.status.idle": "2023-02-03T15:48:00.097970Z",
     "shell.execute_reply": "2023-02-03T15:48:00.097012Z"
    }
   },
   "outputs": [],
   "source": [
    "# TEST\n",
    "np.round(sum(celsius_temperature_ranges), 0)"
   ]
  },
  {
   "cell_type": "code",
   "execution_count": null,
   "metadata": {
    "execution": {
     "iopub.execute_input": "2023-02-03T15:48:00.101900Z",
     "iopub.status.busy": "2023-02-03T15:48:00.101142Z",
     "iopub.status.idle": "2023-02-03T15:48:00.107344Z",
     "shell.execute_reply": "2023-02-03T15:48:00.106144Z"
    }
   },
   "outputs": [],
   "source": [
    "# TEST\n",
    "len(celsius_temperature_ranges)"
   ]
  },
  {
   "cell_type": "code",
   "execution_count": null,
   "metadata": {
    "execution": {
     "iopub.execute_input": "2023-02-03T15:48:00.110671Z",
     "iopub.status.busy": "2023-02-03T15:48:00.110377Z",
     "iopub.status.idle": "2023-02-03T15:48:00.116084Z",
     "shell.execute_reply": "2023-02-03T15:48:00.115270Z"
    }
   },
   "outputs": [],
   "source": [
    "# TEST\n",
    "celsius_temperature_ranges.item(1)"
   ]
  },
  {
   "cell_type": "markdown",
   "metadata": {},
   "source": [
    "## 4. World Population\n"
   ]
  },
  {
   "cell_type": "markdown",
   "metadata": {},
   "source": [
    "The tests from this point on will **not** necessarily tell you whether or not your answers are correct."
   ]
  },
  {
   "cell_type": "markdown",
   "metadata": {},
   "source": [
    "The cell below loads a table of estimates of the world population for different years, starting in 1950. The estimates come from the [US Census Bureau website](https://www.census.gov/en.html)."
   ]
  },
  {
   "cell_type": "code",
   "execution_count": null,
   "metadata": {
    "execution": {
     "iopub.execute_input": "2023-02-03T15:48:00.119487Z",
     "iopub.status.busy": "2023-02-03T15:48:00.119177Z",
     "iopub.status.idle": "2023-02-03T15:48:00.148166Z",
     "shell.execute_reply": "2023-02-03T15:48:00.147101Z"
    }
   },
   "outputs": [],
   "source": [
    "world = Table.read_table(\"world_population.csv\").select('Year', 'Population')\n",
    "world.show(4)"
   ]
  },
  {
   "cell_type": "markdown",
   "metadata": {},
   "source": [
    "The name `population` is assigned to an array of population estimates."
   ]
  },
  {
   "cell_type": "code",
   "execution_count": null,
   "metadata": {
    "execution": {
     "iopub.execute_input": "2023-02-03T15:48:00.151943Z",
     "iopub.status.busy": "2023-02-03T15:48:00.151612Z",
     "iopub.status.idle": "2023-02-03T15:48:00.158405Z",
     "shell.execute_reply": "2023-02-03T15:48:00.157301Z"
    }
   },
   "outputs": [],
   "source": [
    "population = world.column('Population')\n",
    "population"
   ]
  },
  {
   "cell_type": "markdown",
   "metadata": {},
   "source": [
    "In this question, you will apply some built-in Numpy functions to this array. Numpy is a module that is often used in Data Science!"
   ]
  },
  {
   "cell_type": "markdown",
   "metadata": {},
   "source": [
    "<img src=\"array_diff.png\" style=\"width: 600px;\"/>\n",
    "\n",
    "The difference function `np.diff` subtracts each element in an array from the element after it within the array. As a result, the length of the array `np.diff` returns will always be one less than the length of the input array."
   ]
  },
  {
   "cell_type": "markdown",
   "metadata": {},
   "source": [
    "<img src=\"array_cumsum.png\" style=\"width: 700px;\"/>\n",
    "\n",
    "The cumulative sum function `np.cumsum` outputs an array of partial sums. For example, the third element in the output array corresponds to the sum of the first, second, and third elements.\n",
    "\n",
    "**Note:** This homework aims to get you comfortable with array arithmetic using methods like `np.diff` and `np.cumsum`, but they are not heavily used later in the course."
   ]
  },
  {
   "cell_type": "markdown",
   "metadata": {},
   "source": [
    "#### Question 4.1.\n",
    "Very often in data science, we are interested understanding how values change with time. Use `np.diff` and `np.max` (or just `max`) to calculate the largest annual change in population between any two consecutive years.\n",
    "\n",
    "```\n",
    "BEGIN QUESTION\n",
    "name: q4_1\n",
    "```"
   ]
  },
  {
   "cell_type": "code",
   "execution_count": null,
   "metadata": {
    "execution": {
     "iopub.execute_input": "2023-02-03T15:48:00.162760Z",
     "iopub.status.busy": "2023-02-03T15:48:00.162434Z",
     "iopub.status.idle": "2023-02-03T15:48:00.168853Z",
     "shell.execute_reply": "2023-02-03T15:48:00.167957Z"
    }
   },
   "outputs": [],
   "source": [
    "largest_population_change = max( np.diff(population) ) # SOLUTION\n",
    "largest_population_change"
   ]
  },
  {
   "cell_type": "code",
   "execution_count": null,
   "metadata": {
    "execution": {
     "iopub.execute_input": "2023-02-03T15:48:00.172477Z",
     "iopub.status.busy": "2023-02-03T15:48:00.172143Z",
     "iopub.status.idle": "2023-02-03T15:48:00.178334Z",
     "shell.execute_reply": "2023-02-03T15:48:00.177496Z"
    }
   },
   "outputs": [],
   "source": [
    "# TEST\n",
    "largest_population_change"
   ]
  },
  {
   "cell_type": "markdown",
   "metadata": {},
   "source": [
    "#### Question 4.2.\n",
    "What do the values in the resulting array represent? Choose one of the following options, and assign the corresponding number to the name `cumulative_sum_answer`.\n",
    "\n",
    "*Tip: Look at the population array and compute the actual population changes for the first couple years of each option.* "
   ]
  },
  {
   "cell_type": "code",
   "execution_count": null,
   "metadata": {
    "execution": {
     "iopub.execute_input": "2023-02-03T15:48:00.182125Z",
     "iopub.status.busy": "2023-02-03T15:48:00.181814Z",
     "iopub.status.idle": "2023-02-03T15:48:00.188201Z",
     "shell.execute_reply": "2023-02-03T15:48:00.187241Z"
    }
   },
   "outputs": [],
   "source": [
    "np.cumsum(np.diff(population))"
   ]
  },
  {
   "cell_type": "markdown",
   "metadata": {},
   "source": [
    "1) The total population change between consecutive years, starting at 1951.\n",
    "\n",
    "2) The total population change between 1950 and each later year, starting at 1951.\n",
    "\n",
    "3) The total population change between 1950 and each later year, starting inclusively at 1950.\n",
    "\n",
    "```\n",
    "BEGIN QUESTION\n",
    "name: q4_2\n",
    "points:\n",
    "  - 0\n",
    "  - 0\n",
    "  - 1\n",
    "```"
   ]
  },
  {
   "cell_type": "code",
   "execution_count": null,
   "metadata": {
    "execution": {
     "iopub.execute_input": "2023-02-03T15:48:00.191877Z",
     "iopub.status.busy": "2023-02-03T15:48:00.191554Z",
     "iopub.status.idle": "2023-02-03T15:48:00.195686Z",
     "shell.execute_reply": "2023-02-03T15:48:00.194794Z"
    }
   },
   "outputs": [],
   "source": [
    "# Assign cumulative_sum_answer to 1, 2, or 3\n",
    "cumulative_sum_answer = 2 # SOLUTION"
   ]
  },
  {
   "cell_type": "code",
   "execution_count": null,
   "metadata": {
    "execution": {
     "iopub.execute_input": "2023-02-03T15:48:00.199323Z",
     "iopub.status.busy": "2023-02-03T15:48:00.199031Z",
     "iopub.status.idle": "2023-02-03T15:48:00.204678Z",
     "shell.execute_reply": "2023-02-03T15:48:00.203758Z"
    }
   },
   "outputs": [],
   "source": [
    "# TEST\n",
    "type(cumulative_sum_answer) == int"
   ]
  },
  {
   "cell_type": "code",
   "execution_count": null,
   "metadata": {
    "execution": {
     "iopub.execute_input": "2023-02-03T15:48:00.244674Z",
     "iopub.status.busy": "2023-02-03T15:48:00.244317Z",
     "iopub.status.idle": "2023-02-03T15:48:00.250729Z",
     "shell.execute_reply": "2023-02-03T15:48:00.249729Z"
    }
   },
   "outputs": [],
   "source": [
    "# TEST\n",
    "cumulative_sum_answer in [1, 2, 3]"
   ]
  },
  {
   "cell_type": "code",
   "execution_count": null,
   "metadata": {
    "execution": {
     "iopub.execute_input": "2023-02-03T15:48:00.254059Z",
     "iopub.status.busy": "2023-02-03T15:48:00.253766Z",
     "iopub.status.idle": "2023-02-03T15:48:00.259244Z",
     "shell.execute_reply": "2023-02-03T15:48:00.258124Z"
    }
   },
   "outputs": [],
   "source": [
    "# HIDDEN TEST\n",
    "cumulative_sum_answer"
   ]
  },
  {
   "cell_type": "markdown",
   "metadata": {},
   "source": [
    "## 5. Old Faithful\n"
   ]
  },
  {
   "cell_type": "markdown",
   "metadata": {},
   "source": [
    "Old Faithful is a geyser in Yellowstone that erupts every 44 to 125 minutes (according to [Wikipedia](https://en.wikipedia.org/wiki/Old_Faithful)). People are [often told that the geyser erupts every hour](http://yellowstone.net/geysers/old-faithful/), but in fact the waiting time between eruptions is more variable. Let's take a look."
   ]
  },
  {
   "cell_type": "markdown",
   "metadata": {},
   "source": [
    "#### Question 5.1.\n",
    "The first line below assigns `waiting_times` to an array of 272 consecutive waiting times between eruptions, taken from a classic 1938 dataset. Assign the names `shortest`, `longest`, and `average` so that the `print` statement is correct.\n",
    "\n",
    "```\n",
    "BEGIN QUESTION\n",
    "name: q5_1\n",
    "points:\n",
    "  - 0\n",
    "  - 0.333333333333333333\n",
    "  - 0.333333333333333333\n",
    "  - 0.333333333333333333\n",
    "```"
   ]
  },
  {
   "cell_type": "code",
   "execution_count": null,
   "metadata": {
    "execution": {
     "iopub.execute_input": "2023-02-03T15:48:00.262872Z",
     "iopub.status.busy": "2023-02-03T15:48:00.262596Z",
     "iopub.status.idle": "2023-02-03T15:48:00.271818Z",
     "shell.execute_reply": "2023-02-03T15:48:00.270684Z"
    }
   },
   "outputs": [],
   "source": [
    "waiting_times = Table.read_table('old_faithful.csv').column('waiting')\n",
    "\n",
    "shortest = min(waiting_times) # SOLUTION\n",
    "longest = max(waiting_times) # SOLUTION\n",
    "average = np.average(waiting_times) # SOLUTION\n",
    "\n",
    "print(\"Old Faithful erupts every\", shortest, \"to\", longest, \"minutes and every\", average, \"minutes on average.\")"
   ]
  },
  {
   "cell_type": "code",
   "execution_count": null,
   "metadata": {
    "execution": {
     "iopub.execute_input": "2023-02-03T15:48:00.275551Z",
     "iopub.status.busy": "2023-02-03T15:48:00.275201Z",
     "iopub.status.idle": "2023-02-03T15:48:00.280963Z",
     "shell.execute_reply": "2023-02-03T15:48:00.280109Z"
    }
   },
   "outputs": [],
   "source": [
    "# TEST\n",
    "shortest <= average <= longest"
   ]
  },
  {
   "cell_type": "code",
   "execution_count": null,
   "metadata": {
    "execution": {
     "iopub.execute_input": "2023-02-03T15:48:00.284378Z",
     "iopub.status.busy": "2023-02-03T15:48:00.284066Z",
     "iopub.status.idle": "2023-02-03T15:48:00.289787Z",
     "shell.execute_reply": "2023-02-03T15:48:00.288822Z"
    }
   },
   "outputs": [],
   "source": [
    "# HIDDEN TEST\n",
    "shortest"
   ]
  },
  {
   "cell_type": "code",
   "execution_count": null,
   "metadata": {
    "execution": {
     "iopub.execute_input": "2023-02-03T15:48:00.293449Z",
     "iopub.status.busy": "2023-02-03T15:48:00.292889Z",
     "iopub.status.idle": "2023-02-03T15:48:00.298795Z",
     "shell.execute_reply": "2023-02-03T15:48:00.297750Z"
    }
   },
   "outputs": [],
   "source": [
    "# HIDDEN TEST\n",
    "longest"
   ]
  },
  {
   "cell_type": "code",
   "execution_count": null,
   "metadata": {
    "execution": {
     "iopub.execute_input": "2023-02-03T15:48:00.302484Z",
     "iopub.status.busy": "2023-02-03T15:48:00.302164Z",
     "iopub.status.idle": "2023-02-03T15:48:00.342826Z",
     "shell.execute_reply": "2023-02-03T15:48:00.341554Z"
    }
   },
   "outputs": [],
   "source": [
    "# HIDDEN TEST\n",
    "np.isclose(average, 70.8970588235)"
   ]
  },
  {
   "cell_type": "markdown",
   "metadata": {},
   "source": [
    "#### Question 5.2\n",
    "Assign `biggest_decrease` to the biggest decrease in waiting time between two consecutive eruptions. For example, the third eruption occurred after 74 minutes and the fourth after 62 minutes, so the decrease in waiting time was $62 - 74 = -12$ minutes, for a decrease of 12 minutes.\n",
    "\n",
    "**Hint 1**: You'll need an array arithmetic function [mentioned in the textbook](https://www.inferentialthinking.com/chapters/05/1/arrays.html#Functions-on-Arrays). You have also seen this function earlier in the homework!\n",
    "\n",
    "**Hint 2**: We want to return the absolute value of the biggest decrease.\n",
    "\n",
    "```\n",
    "BEGIN QUESTION\n",
    "name: q5_2\n",
    "points:\n",
    "  - 0\n",
    "  - 0\n",
    "  - 1\n",
    "```"
   ]
  },
  {
   "cell_type": "code",
   "execution_count": null,
   "metadata": {
    "execution": {
     "iopub.execute_input": "2023-02-03T15:48:00.347240Z",
     "iopub.status.busy": "2023-02-03T15:48:00.346502Z",
     "iopub.status.idle": "2023-02-03T15:48:00.353197Z",
     "shell.execute_reply": "2023-02-03T15:48:00.352081Z"
    }
   },
   "outputs": [],
   "source": [
    "biggest_decrease = abs( min( np.diff(waiting_times) ) ) # SOLUTION\n",
    "biggest_decrease"
   ]
  },
  {
   "cell_type": "code",
   "execution_count": null,
   "metadata": {
    "execution": {
     "iopub.execute_input": "2023-02-03T15:48:00.357009Z",
     "iopub.status.busy": "2023-02-03T15:48:00.356695Z",
     "iopub.status.idle": "2023-02-03T15:48:00.362767Z",
     "shell.execute_reply": "2023-02-03T15:48:00.361899Z"
    }
   },
   "outputs": [],
   "source": [
    "# TEST\n",
    "# Hint: If you are getting 47, you may be computing\n",
    "# the biggest change rather than the biggest decrease\n",
    "biggest_decrease != 47"
   ]
  },
  {
   "cell_type": "code",
   "execution_count": null,
   "metadata": {
    "execution": {
     "iopub.execute_input": "2023-02-03T15:48:00.366326Z",
     "iopub.status.busy": "2023-02-03T15:48:00.365952Z",
     "iopub.status.idle": "2023-02-03T15:48:00.371947Z",
     "shell.execute_reply": "2023-02-03T15:48:00.370971Z"
    }
   },
   "outputs": [],
   "source": [
    "# TEST\n",
    "30 <= biggest_decrease < 47"
   ]
  },
  {
   "cell_type": "code",
   "execution_count": null,
   "metadata": {
    "execution": {
     "iopub.execute_input": "2023-02-03T15:48:00.375280Z",
     "iopub.status.busy": "2023-02-03T15:48:00.374983Z",
     "iopub.status.idle": "2023-02-03T15:48:00.380867Z",
     "shell.execute_reply": "2023-02-03T15:48:00.379925Z"
    }
   },
   "outputs": [],
   "source": [
    "# HIDDEN TEST\n",
    "biggest_decrease"
   ]
  },
  {
   "cell_type": "markdown",
   "metadata": {},
   "source": [
    "#### Question 5.3.\n",
    "If you expected Old Faithful to erupt every hour, you would expect to wait a total of `60 * k` minutes to see `k` eruptions. Use the `np.arange` function to create a range of values where each element represents the total expected time (in minutes) one would spend waiting for  waiting for `k` erruptions to occur under the assumption erumptions occur once an hour. Set `expected_wait` to this range of values. You can read about `np.arange` as needed in this [textbook section](https://www.inferentialthinking.com/chapters/05/2/Ranges.html).\n",
    "\n",
    "Then, set `difference_from_expected` to an array with 272 elements, where the element at index `i` is the absolute difference between the actual and expected total amount of waiting time to see the first `i+1` eruptions. \n",
    "\n",
    "**Hint 1**: You'll need to compare a cumulative sum to a range. \n",
    "\n",
    "For example, since the first three waiting times are 79, 54, and 74, the total waiting time for 3 eruptions is 79 + 54 + 74 = 207. The expected waiting time for 3 eruptions is 60 * 3 = 180. Therefore, `difference_from_expected.item(2)` should be $|207 - 180| = 27$. \n",
    "\n",
    "**Hint 2**: When using the absolute value function, use `np.abs` instead of `abs`, since `numpy` is already loaded in this notebook, and that's what the autograder is going to use.\n",
    "\n",
    "```\n",
    "BEGIN QUESTION\n",
    "name: q5_3\n",
    "```"
   ]
  },
  {
   "cell_type": "code",
   "execution_count": null,
   "metadata": {
    "execution": {
     "iopub.execute_input": "2023-02-03T15:48:00.384391Z",
     "iopub.status.busy": "2023-02-03T15:48:00.384080Z",
     "iopub.status.idle": "2023-02-03T15:48:00.391765Z",
     "shell.execute_reply": "2023-02-03T15:48:00.390773Z"
    }
   },
   "outputs": [],
   "source": [
    "expected_wait = np.arange(1, 273) * 60 # SOLUTION\n",
    "difference_from_expected = np.abs( np.cumsum(waiting_times) - expected_wait ) # SOLUTION\n",
    "difference_from_expected"
   ]
  },
  {
   "cell_type": "code",
   "execution_count": null,
   "metadata": {
    "execution": {
     "iopub.execute_input": "2023-02-03T15:48:00.395750Z",
     "iopub.status.busy": "2023-02-03T15:48:00.395088Z",
     "iopub.status.idle": "2023-02-03T15:48:00.400656Z",
     "shell.execute_reply": "2023-02-03T15:48:00.399654Z"
    }
   },
   "outputs": [],
   "source": [
    "# TEST\n",
    "difference_from_expected.size"
   ]
  },
  {
   "cell_type": "code",
   "execution_count": null,
   "metadata": {
    "execution": {
     "iopub.execute_input": "2023-02-03T15:48:00.404148Z",
     "iopub.status.busy": "2023-02-03T15:48:00.403859Z",
     "iopub.status.idle": "2023-02-03T15:48:00.444645Z",
     "shell.execute_reply": "2023-02-03T15:48:00.443580Z"
    }
   },
   "outputs": [],
   "source": [
    "# TEST\n",
    "difference_from_expected.item(271) == np.abs( 60 * 272 - sum( waiting_times ) )"
   ]
  },
  {
   "cell_type": "markdown",
   "metadata": {},
   "source": [
    "#### Question 5.4.\n",
    "Let’s imagine your guess for the next wait time was always just the length of the previous waiting time. If you always guessed the previous waiting time, how big would your error in guessing the waiting times be, on average?\n",
    "\n",
    "For example, the first three waiting times are 79, 54, and 74. After the first eruption you guess the next eruption will happen after 79 minutes, but it occurs after 54 resulting in an error of $\\lvert 79 - 54 \\rvert$. For the next eruption you now guess it will take 54 minutes, but it takes 74, so the error is $\\lvert 54 - 74 \\rvert$. Therefore, the average difference between your guess and the actual time for just the second and third eruption would be $\\frac{|79-54|+ |54-74|}{2} = 22.5$.\n",
    "\n",
    "```\n",
    "BEGIN QUESTION\n",
    "name: q5_4\n",
    "points:\n",
    "  - 0\n",
    "  - 1\n",
    "```"
   ]
  },
  {
   "cell_type": "code",
   "execution_count": null,
   "metadata": {
    "execution": {
     "iopub.execute_input": "2023-02-03T15:48:00.448731Z",
     "iopub.status.busy": "2023-02-03T15:48:00.448091Z",
     "iopub.status.idle": "2023-02-03T15:48:00.454247Z",
     "shell.execute_reply": "2023-02-03T15:48:00.453481Z"
    }
   },
   "outputs": [],
   "source": [
    "average_error = np.average( np.abs( np.diff(waiting_times) ) ) # SOLUTION\n",
    "average_error"
   ]
  },
  {
   "cell_type": "code",
   "execution_count": null,
   "metadata": {
    "execution": {
     "iopub.execute_input": "2023-02-03T15:48:00.458051Z",
     "iopub.status.busy": "2023-02-03T15:48:00.457679Z",
     "iopub.status.idle": "2023-02-03T15:48:00.463350Z",
     "shell.execute_reply": "2023-02-03T15:48:00.462520Z"
    }
   },
   "outputs": [],
   "source": [
    "# TEST\n",
    "15 <= average_error <= 25"
   ]
  },
  {
   "cell_type": "code",
   "execution_count": null,
   "metadata": {
    "execution": {
     "iopub.execute_input": "2023-02-03T15:48:00.466435Z",
     "iopub.status.busy": "2023-02-03T15:48:00.466151Z",
     "iopub.status.idle": "2023-02-03T15:48:00.471696Z",
     "shell.execute_reply": "2023-02-03T15:48:00.470861Z"
    }
   },
   "outputs": [],
   "source": [
    "# HIDDEN TEST\n",
    "np.isclose( average_error, 20.52029520295203)"
   ]
  },
  {
   "cell_type": "markdown",
   "metadata": {},
   "source": [
    "## 6. Tables\n"
   ]
  },
  {
   "cell_type": "markdown",
   "metadata": {},
   "source": [
    "#### Question 6.1.\n",
    "Suppose you have 4 apples, 3 oranges, and 3 pineapples.  (Perhaps you're using Python to solve a high school Algebra problem.)  Create a table that contains this information.  It should have two columns: `fruit name` and `count`.  Assign the new table to the variable `fruits`.\n",
    "\n",
    "**Note:** Use lower-case and singular words for the name of each fruit, like `\"apple\"`.\n",
    "\n",
    "Your table should look like:\n",
    "\n",
    "| fruit name | count |\n",
    "|------------|-------|\n",
    "| apple      | 4     |\n",
    "| orange     | 3     |\n",
    "| pineapple  | 3     |\n",
    "\n",
    "```\n",
    "BEGIN QUESTION\n",
    "name: q6_1\n",
    "```"
   ]
  },
  {
   "cell_type": "code",
   "execution_count": null,
   "metadata": {
    "execution": {
     "iopub.execute_input": "2023-02-03T15:48:00.476105Z",
     "iopub.status.busy": "2023-02-03T15:48:00.474962Z",
     "iopub.status.idle": "2023-02-03T15:48:00.481892Z",
     "shell.execute_reply": "2023-02-03T15:48:00.481061Z"
    }
   },
   "outputs": [],
   "source": [
    "# Our solution uses 1 statement split over 3 lines. You can write yours on 1 line if you wish.\n",
    "fruits = Table().with_columns( # SOLUTION\n",
    "    'fruit name', make_array('apple', 'orange', 'pineapple'), # SOLUTION\n",
    "    'count', make_array(4, 3, 3) ) # SOLUTION\n",
    "fruits"
   ]
  },
  {
   "cell_type": "code",
   "execution_count": null,
   "metadata": {
    "execution": {
     "iopub.execute_input": "2023-02-03T15:48:00.485255Z",
     "iopub.status.busy": "2023-02-03T15:48:00.484906Z",
     "iopub.status.idle": "2023-02-03T15:48:00.490973Z",
     "shell.execute_reply": "2023-02-03T15:48:00.490155Z"
    }
   },
   "outputs": [],
   "source": [
    "# TEST\n",
    "fruits.sort(0)"
   ]
  },
  {
   "cell_type": "markdown",
   "metadata": {},
   "source": [
    "#### Question 6.2.\n",
    "The file `inventory.csv` contains information about the inventory at a fruit stand.  Each row represents the contents of one box of fruit. Load it as a table named `inventory` using the `Table.read_table()` function. `Table.read_table(...)` takes one argument (data file name in string format) and returns a table.\n",
    "\n",
    "```\n",
    "BEGIN QUESTION\n",
    "name: q6_2\n",
    "```"
   ]
  },
  {
   "cell_type": "code",
   "execution_count": null,
   "metadata": {
    "execution": {
     "iopub.execute_input": "2023-02-03T15:48:00.494358Z",
     "iopub.status.busy": "2023-02-03T15:48:00.494063Z",
     "iopub.status.idle": "2023-02-03T15:48:00.503069Z",
     "shell.execute_reply": "2023-02-03T15:48:00.502121Z"
    }
   },
   "outputs": [],
   "source": [
    "inventory = Table.read_table('inventory.csv') # SOLUTION\n",
    "inventory"
   ]
  },
  {
   "cell_type": "code",
   "execution_count": null,
   "metadata": {
    "execution": {
     "iopub.execute_input": "2023-02-03T15:48:00.542780Z",
     "iopub.status.busy": "2023-02-03T15:48:00.542407Z",
     "iopub.status.idle": "2023-02-03T15:48:00.549062Z",
     "shell.execute_reply": "2023-02-03T15:48:00.548000Z"
    }
   },
   "outputs": [],
   "source": [
    "# TEST\n",
    "inventory.sort(0).column(0).item(0)"
   ]
  },
  {
   "cell_type": "markdown",
   "metadata": {},
   "source": [
    "#### Question 6.3.\n",
    "Does each box at the fruit stand contain a different fruit? Set `all_different` to `True` if each box contains a different fruit or to `False` if multiple boxes contain the same fruit.\n",
    "\n",
    "**Hint:** You don't have to write code to calculate the True/False value for `all_different`. Just look at the `inventory` table and assign `all_different` to either `True` or `False` according to what you can see from the table in answering the question.\n",
    "\n",
    "```\n",
    "BEGIN QUESTION\n",
    "name: q6_3\n",
    "points:\n",
    "  - 0\n",
    "  - 1\n",
    "```"
   ]
  },
  {
   "cell_type": "code",
   "execution_count": null,
   "metadata": {
    "execution": {
     "iopub.execute_input": "2023-02-03T15:48:00.553260Z",
     "iopub.status.busy": "2023-02-03T15:48:00.552813Z",
     "iopub.status.idle": "2023-02-03T15:48:00.559653Z",
     "shell.execute_reply": "2023-02-03T15:48:00.558687Z"
    }
   },
   "outputs": [],
   "source": [
    "all_different = False # SOLUTION\n",
    "all_different"
   ]
  },
  {
   "cell_type": "code",
   "execution_count": null,
   "metadata": {
    "execution": {
     "iopub.execute_input": "2023-02-03T15:48:00.563270Z",
     "iopub.status.busy": "2023-02-03T15:48:00.562918Z",
     "iopub.status.idle": "2023-02-03T15:48:00.568972Z",
     "shell.execute_reply": "2023-02-03T15:48:00.567932Z"
    }
   },
   "outputs": [],
   "source": [
    "# TEST\n",
    "all_different in {True, False}"
   ]
  },
  {
   "cell_type": "code",
   "execution_count": null,
   "metadata": {
    "execution": {
     "iopub.execute_input": "2023-02-03T15:48:00.572368Z",
     "iopub.status.busy": "2023-02-03T15:48:00.572057Z",
     "iopub.status.idle": "2023-02-03T15:48:00.577578Z",
     "shell.execute_reply": "2023-02-03T15:48:00.576685Z"
    }
   },
   "outputs": [],
   "source": [
    "# HIDDEN TEST\n",
    "all_different == False"
   ]
  },
  {
   "cell_type": "markdown",
   "metadata": {},
   "source": [
    "#### Question 6.4.\n",
    "The file `sales.csv` contains the number of fruit sold from each box last Saturday.  It has an extra column called \"price per fruit (\\$)\" that's the price *per item of fruit* for fruit in that box.  The rows are in the same order as the `inventory` table.  \n",
    "\n",
    "Load these data into a table called `sales`.\n",
    "\n",
    "```\n",
    "BEGIN QUESTION\n",
    "name: q6_4\n",
    "```"
   ]
  },
  {
   "cell_type": "code",
   "execution_count": null,
   "metadata": {
    "execution": {
     "iopub.execute_input": "2023-02-03T15:48:00.581176Z",
     "iopub.status.busy": "2023-02-03T15:48:00.580878Z",
     "iopub.status.idle": "2023-02-03T15:48:00.591315Z",
     "shell.execute_reply": "2023-02-03T15:48:00.590113Z"
    }
   },
   "outputs": [],
   "source": [
    "sales = Table.read_table('sales.csv') # SOLUTION\n",
    "sales"
   ]
  },
  {
   "cell_type": "code",
   "execution_count": null,
   "metadata": {
    "execution": {
     "iopub.execute_input": "2023-02-03T15:48:00.595662Z",
     "iopub.status.busy": "2023-02-03T15:48:00.595316Z",
     "iopub.status.idle": "2023-02-03T15:48:00.603092Z",
     "shell.execute_reply": "2023-02-03T15:48:00.601626Z"
    }
   },
   "outputs": [],
   "source": [
    "# TEST\n",
    "sales.sort(0)"
   ]
  },
  {
   "cell_type": "markdown",
   "metadata": {},
   "source": [
    "#### Question 6.5.\n",
    "How many fruits did the store sell in total on that day?\n",
    "\n",
    "```\n",
    "BEGIN QUESTION\n",
    "name: q6_5\n",
    "points:\n",
    "  - 0\n",
    "  - 0\n",
    "  - 1\n",
    "```"
   ]
  },
  {
   "cell_type": "code",
   "execution_count": null,
   "metadata": {
    "execution": {
     "iopub.execute_input": "2023-02-03T15:48:00.642039Z",
     "iopub.status.busy": "2023-02-03T15:48:00.606900Z",
     "iopub.status.idle": "2023-02-03T15:48:00.648512Z",
     "shell.execute_reply": "2023-02-03T15:48:00.647270Z"
    }
   },
   "outputs": [],
   "source": [
    "total_fruits_sold = sum( sales.column('count sold' ) ) # SOLUTION\n",
    "total_fruits_sold"
   ]
  },
  {
   "cell_type": "code",
   "execution_count": null,
   "metadata": {
    "execution": {
     "iopub.execute_input": "2023-02-03T15:48:00.651951Z",
     "iopub.status.busy": "2023-02-03T15:48:00.651650Z",
     "iopub.status.idle": "2023-02-03T15:48:00.657992Z",
     "shell.execute_reply": "2023-02-03T15:48:00.656962Z"
    }
   },
   "outputs": [],
   "source": [
    "# TEST\n",
    "# We're looking for the total number of *pieces* sold\n",
    "# Not the number of kinds of fruit or the number of boxes\n",
    "total_fruits_sold > 10"
   ]
  },
  {
   "cell_type": "code",
   "execution_count": null,
   "metadata": {
    "execution": {
     "iopub.execute_input": "2023-02-03T15:48:00.661586Z",
     "iopub.status.busy": "2023-02-03T15:48:00.661292Z",
     "iopub.status.idle": "2023-02-03T15:48:00.667069Z",
     "shell.execute_reply": "2023-02-03T15:48:00.666136Z"
    }
   },
   "outputs": [],
   "source": [
    "# TEST\n",
    "type(total_fruits_sold) == np.int64"
   ]
  },
  {
   "cell_type": "code",
   "execution_count": null,
   "metadata": {
    "execution": {
     "iopub.execute_input": "2023-02-03T15:48:00.671066Z",
     "iopub.status.busy": "2023-02-03T15:48:00.670702Z",
     "iopub.status.idle": "2023-02-03T15:48:00.677066Z",
     "shell.execute_reply": "2023-02-03T15:48:00.675974Z"
    }
   },
   "outputs": [],
   "source": [
    "# HIDDEN TEST\n",
    "total_fruits_sold"
   ]
  },
  {
   "cell_type": "markdown",
   "metadata": {},
   "source": [
    "#### Question 6.6.\n",
    "What was the store's total revenue (the total price of all fruits sold) on that day?\n",
    "\n",
    "**Hint:** If you're stuck, think first about how you would compute the total revenue from just the grape sales.\n",
    "\n",
    "```\n",
    "BEGIN QUESTION\n",
    "name: q6_6\n",
    "points:\n",
    "  - 0\n",
    "  - 1\n",
    "```"
   ]
  },
  {
   "cell_type": "code",
   "execution_count": null,
   "metadata": {
    "execution": {
     "iopub.execute_input": "2023-02-03T15:48:00.680519Z",
     "iopub.status.busy": "2023-02-03T15:48:00.680241Z",
     "iopub.status.idle": "2023-02-03T15:48:00.686396Z",
     "shell.execute_reply": "2023-02-03T15:48:00.685435Z"
    }
   },
   "outputs": [],
   "source": [
    "total_revenue = sum( sales.column('count sold') * sales.column('price per fruit ($)') ) # SOLUTION\n",
    "total_revenue"
   ]
  },
  {
   "cell_type": "code",
   "execution_count": null,
   "metadata": {
    "execution": {
     "iopub.execute_input": "2023-02-03T15:48:00.690452Z",
     "iopub.status.busy": "2023-02-03T15:48:00.689650Z",
     "iopub.status.idle": "2023-02-03T15:48:00.695387Z",
     "shell.execute_reply": "2023-02-03T15:48:00.694543Z"
    }
   },
   "outputs": [],
   "source": [
    "# TEST\n",
    "# If you're stuck, here's a hint: you want to multiply the count\n",
    "# sold in each box by the per-item price of fruits in that box.\n",
    "# You can use element wise multiplication for that.\n",
    "# Then you want the sum of those products, Use sum().\n",
    "50 <= total_revenue <= 150"
   ]
  },
  {
   "cell_type": "code",
   "execution_count": null,
   "metadata": {
    "execution": {
     "iopub.execute_input": "2023-02-03T15:48:00.698891Z",
     "iopub.status.busy": "2023-02-03T15:48:00.698583Z",
     "iopub.status.idle": "2023-02-03T15:48:00.742048Z",
     "shell.execute_reply": "2023-02-03T15:48:00.704270Z"
    }
   },
   "outputs": [],
   "source": [
    "# HIDDEN TEST\n",
    "np.isclose(total_revenue, 106.85)"
   ]
  },
  {
   "cell_type": "markdown",
   "metadata": {},
   "source": [
    "#### Question 6.7.\n",
    "Make a new table called `remaining_inventory`.  It should have the same rows and columns as `inventory`, except that the amount of fruit sold from each box should be subtracted from that box's count, so that the \"count\" is the amount of fruit remaining after Saturday. Remember, the rows in `inventory` and `sales` are already in the same order.\n",
    "\n",
    "```\n",
    "BEGIN QUESTION\n",
    "name: q6_7\n",
    "```"
   ]
  },
  {
   "cell_type": "code",
   "execution_count": null,
   "metadata": {
    "execution": {
     "iopub.execute_input": "2023-02-03T15:48:00.746887Z",
     "iopub.status.busy": "2023-02-03T15:48:00.746143Z",
     "iopub.status.idle": "2023-02-03T15:48:00.754409Z",
     "shell.execute_reply": "2023-02-03T15:48:00.753270Z"
    }
   },
   "outputs": [],
   "source": [
    "remaining_inventory = Table().with_columns( # SOLUTION\n",
    "    'box ID', inventory.column('box ID'), # SOLUTION\n",
    "    'fruit name', inventory.column('fruit name'), # SOLUTION\n",
    "    'count', inventory.column('count') - sales.column('count sold') ) # SOLUTION\n",
    "remaining_inventory"
   ]
  },
  {
   "cell_type": "code",
   "execution_count": null,
   "metadata": {
    "execution": {
     "iopub.execute_input": "2023-02-03T15:48:00.757753Z",
     "iopub.status.busy": "2023-02-03T15:48:00.757446Z",
     "iopub.status.idle": "2023-02-03T15:48:00.763594Z",
     "shell.execute_reply": "2023-02-03T15:48:00.762759Z"
    }
   },
   "outputs": [],
   "source": [
    "# TEST\n",
    "# Your table doesn't have all 3 columns\n",
    "remaining_inventory.num_columns"
   ]
  },
  {
   "cell_type": "code",
   "execution_count": null,
   "metadata": {
    "execution": {
     "iopub.execute_input": "2023-02-03T15:48:00.767027Z",
     "iopub.status.busy": "2023-02-03T15:48:00.766713Z",
     "iopub.status.idle": "2023-02-03T15:48:00.772471Z",
     "shell.execute_reply": "2023-02-03T15:48:00.771508Z"
    }
   },
   "outputs": [],
   "source": [
    "# TEST\n",
    "# You forgot to subtract off the sales\n",
    "remaining_inventory.column('count').item(0) != 45"
   ]
  },
  {
   "cell_type": "code",
   "execution_count": null,
   "metadata": {
    "execution": {
     "iopub.execute_input": "2023-02-03T15:48:00.775792Z",
     "iopub.status.busy": "2023-02-03T15:48:00.775508Z",
     "iopub.status.idle": "2023-02-03T15:48:00.781938Z",
     "shell.execute_reply": "2023-02-03T15:48:00.780912Z"
    }
   },
   "outputs": [],
   "source": [
    "# TEST\n",
    "remaining_inventory.where('fruit name', 'grape')"
   ]
  },
  {
   "cell_type": "markdown",
   "metadata": {},
   "source": [
    "## Submitting your work\n",
    "You're done with Graded HW 02! All assignments in the course will be distributed as notebooks like this one, and you will submit your work by doing the following:\n",
    "* Save your notebook\n",
    "* Restart the kernel and run up to this cell.\n",
    "* Run all the tests by running the cell containing `grader.check_all()`. Make sure they pass the way you expect them to.\n",
    "* Run the cell below with the code `grader.export(...)`.\n",
    "* Download the file named `hw02.zip`, found in the explorer pane on the left side of the screen.\n",
    "* Upload `hw02.zip` to the Graded HW 02 assignment on Canvas.\n",
    "\n",
    "## WARNING!!!\n",
    "Do not attempt to download your `.zip` file using the link that's generated in the notebook, it will produce an error. Always download the `.zip` file using the file explorer pane on the left side of the screen."
   ]
  },
  {
   "cell_type": "markdown",
   "metadata": {
    "deletable": false,
    "editable": false
   },
   "source": [
    "## Submission\n",
    "\n",
    "Make sure you have run all cells in your notebook in order before running the cell below, so that all images/graphs appear in the output. The cell below will generate a zip file for you to submit. **Please save before exporting!**\n",
    "\n",
    "When done exporting, download the .zip file by `SHIFT`-clicking on the file name and selecting **Save Link As**. Or, find the .zip file in the left side of the screen and right-click and select **Download**. You'll submit this .zip file for the assignment in Canvas to Gradescope for grading."
   ]
  },
  {
   "cell_type": "code",
   "execution_count": null,
   "metadata": {
    "deletable": false,
    "editable": false
   },
   "outputs": [],
   "source": [
    "# Save your notebook first, then run this cell to export your submission.\n",
    "grader.export(pdf=False, run_tests=True)"
   ]
  },
  {
   "cell_type": "markdown",
   "metadata": {},
   "source": [
    " "
   ]
  }
 ],
 "metadata": {
  "kernelspec": {
   "display_name": "Python 3 (ipykernel)",
   "language": "python",
   "name": "python3"
  },
  "language_info": {
   "codemirror_mode": {
    "name": "ipython",
    "version": 3
   },
   "file_extension": ".py",
   "mimetype": "text/x-python",
   "name": "python",
   "nbconvert_exporter": "python",
   "pygments_lexer": "ipython3",
   "version": "3.11.4"
  },
  "otter": {
   "OK_FORMAT": true,
   "tests": {}
  }
 },
 "nbformat": 4,
 "nbformat_minor": 4
}
