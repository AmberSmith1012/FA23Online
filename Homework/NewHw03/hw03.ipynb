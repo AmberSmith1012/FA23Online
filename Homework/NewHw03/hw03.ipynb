{
 "cells": [
  {
   "cell_type": "raw",
   "metadata": {
    "id": "h7IHKSOY1GfE"
   },
   "source": [
    "# ASSIGNMENT CONFIG\n",
    "config_file: ../../config.yaml\n",
    "\n",
    "files:\n",
    "  - boston.csv\n",
    "  - manila.csv\n",
    "  - nst-est2020-alldata.csv\n",
    "  - unemployment.csv\n",
    "  - scatter.png\n",
    "  - var1.png\n",
    "  - var2.png"
   ]
  },
  {
   "cell_type": "markdown",
   "metadata": {
    "id": "cv-lsDwo1GfM"
   },
   "source": [
    "# Homework 03: Table Manipulation and Visualization"
   ]
  },
  {
   "cell_type": "markdown",
   "metadata": {
    "id": "50w1JUCE1GfO"
   },
   "source": [
    "**Reading**: \n",
    "* [Visualization](https://inferentialthinking.com/chapters/07/Visualization.html)"
   ]
  },
  {
   "cell_type": "markdown",
   "metadata": {
    "id": "1PMz0b1P1GfP"
   },
   "source": [
    "For all problems that you must write explanations and sentences for, you **must** provide your answer in the designated space. Moreover, throughout this homework and all future ones, please be sure to not re-assign variables throughout the notebook! For example, if you use `max_temperature` in your answer to one question, do not reassign it later on. Otherwise, you will fail tests that you thought you were passing previously!\n",
    "\n",
    "**Note: This homework has hidden tests on it. Additional tests will be run once your homework is submitted for grading. While you may pass all the tests you have access to before submission, you may not earn full credit if you do not pass the hidden tests as well.**. \n",
    "\n",
    "Many of the tests you have access to before submitting only test to ensure you have given an answer that is formatted correctly and/or you have given an answer that *could* make sense in context. For example, a test you have access to while completing the assignment may check that you selected a valid choice for a multiple choice problem (1, 2, or 3) or that your answer is an integer between 0 and 50 if asked to count a subset of states in the United States. The tests that are run after submission will evaluate your work for accuracy. **Do not assume that just because all your tests pass before submission means that your answers are correct!**\n",
    "\n",
    "Consult with your teacher and course syllabus for information and policies regarding appropriate collaboration with other students, appropriate use of AI tools, and submission of late work."
   ]
  },
  {
   "cell_type": "code",
   "execution_count": 1,
   "metadata": {
    "id": "whnONjzu1GfQ"
   },
   "outputs": [],
   "source": [
    "# Don't change this cell; just run it. \n",
    "\n",
    "import numpy as np\n",
    "from datascience import *\n",
    "\n",
    "# These lines do some fancy plotting magic.\\n\",\n",
    "import matplotlib\n",
    "%matplotlib inline\n",
    "import matplotlib.pyplot as plots\n",
    "plots.style.use('fivethirtyeight')"
   ]
  },
  {
   "cell_type": "markdown",
   "metadata": {
    "id": "QauLshgH1GfT"
   },
   "source": [
    "## 1. Unemployment\n"
   ]
  },
  {
   "cell_type": "markdown",
   "metadata": {
    "id": "yp0vzYSM1GfU"
   },
   "source": [
    "The Federal Reserve Bank of St. Louis publishes data about jobs in the US.  Below, we've loaded data on unemployment in the United States. There are many ways of defining unemployment, and our dataset includes two notions of the unemployment rate:\n",
    "\n",
    "1. Among people who are able to work and are looking for a full-time job, **the percentage who can't find a job**.  This is called the Non-Employment Index, or NEI.\n",
    "2. Among people who are able to work and are looking for a full-time job, **the percentage who can't find any job** *or* **are only working at a part-time job**.  The latter group is called \"Part-Time for Economic Reasons\", so the acronym for this index is NEI-PTER.  (Economists are great at marketing.)\n",
    "\n",
    "Both metrics are calculated **monthly** by the Federal Reserve Bank of Richmond. For further information about this data, go to Federal Reserve Bank of Richmond's website on [Hornstein-Kudlyak-Lange Non-Employment Index](https://www.richmondfed.org/research/national_economy/non_employment_index). The original source of the data is [here for NEI](https://fred.stlouisfed.org/series/NEIM156SFRBRIC) and [here for NEI-PTER](https://fred.stlouisfed.org/series/NEIPTERM156SFRBRIC)."
   ]
  },
  {
   "cell_type": "raw",
   "metadata": {},
   "source": [
    "# BEGIN QUESTION\n",
    "name: q1_1"
   ]
  },
  {
   "cell_type": "markdown",
   "metadata": {
    "id": "f6fgf1KD1GfX"
   },
   "source": [
    "#### Question 1.1.\n",
    "\n",
    "The data are provided in a CSV file called `unemployment.csv`.  Load that file into a table called `unemployment`."
   ]
  },
  {
   "cell_type": "raw",
   "metadata": {},
   "source": [
    "# BEGIN SOLUTION"
   ]
  },
  {
   "cell_type": "code",
   "execution_count": 2,
   "metadata": {
    "id": "vef1yRSY1GfY",
    "outputId": "69025978-e90d-4a1f-c737-b2059ea0731e"
   },
   "outputs": [
    {
     "data": {
      "text/html": [
       "<table border=\"1\" class=\"dataframe\">\n",
       "    <thead>\n",
       "        <tr>\n",
       "            <th>Date</th> <th>NEI</th> <th>NEI-PTER</th>\n",
       "        </tr>\n",
       "    </thead>\n",
       "    <tbody>\n",
       "        <tr>\n",
       "            <td>1994-01-01</td> <td>9.98073</td> <td>11.0434 </td>\n",
       "        </tr>\n",
       "        <tr>\n",
       "            <td>1994-02-01</td> <td>9.80638</td> <td>10.9667 </td>\n",
       "        </tr>\n",
       "        <tr>\n",
       "            <td>1994-03-01</td> <td>9.70025</td> <td>10.9147 </td>\n",
       "        </tr>\n",
       "        <tr>\n",
       "            <td>1994-04-01</td> <td>9.56791</td> <td>10.7528 </td>\n",
       "        </tr>\n",
       "        <tr>\n",
       "            <td>1994-05-01</td> <td>9.35897</td> <td>10.5746 </td>\n",
       "        </tr>\n",
       "        <tr>\n",
       "            <td>1994-06-01</td> <td>9.34942</td> <td>10.5643 </td>\n",
       "        </tr>\n",
       "        <tr>\n",
       "            <td>1994-07-01</td> <td>9.29226</td> <td>10.4536 </td>\n",
       "        </tr>\n",
       "        <tr>\n",
       "            <td>1994-08-01</td> <td>9.24167</td> <td>10.3608 </td>\n",
       "        </tr>\n",
       "        <tr>\n",
       "            <td>1994-09-01</td> <td>9.15134</td> <td>10.2626 </td>\n",
       "        </tr>\n",
       "        <tr>\n",
       "            <td>1994-10-01</td> <td>9.07711</td> <td>10.2174 </td>\n",
       "        </tr>\n",
       "    </tbody>\n",
       "</table>\n",
       "<p>... (345 rows omitted)</p>"
      ],
      "text/plain": [
       "Date       | NEI     | NEI-PTER\n",
       "1994-01-01 | 9.98073 | 11.0434\n",
       "1994-02-01 | 9.80638 | 10.9667\n",
       "1994-03-01 | 9.70025 | 10.9147\n",
       "1994-04-01 | 9.56791 | 10.7528\n",
       "1994-05-01 | 9.35897 | 10.5746\n",
       "1994-06-01 | 9.34942 | 10.5643\n",
       "1994-07-01 | 9.29226 | 10.4536\n",
       "1994-08-01 | 9.24167 | 10.3608\n",
       "1994-09-01 | 9.15134 | 10.2626\n",
       "1994-10-01 | 9.07711 | 10.2174\n",
       "... (345 rows omitted)"
      ]
     },
     "execution_count": 2,
     "metadata": {},
     "output_type": "execute_result"
    }
   ],
   "source": [
    "unemployment = Table().read_table('unemployment.csv') # SOLUTION\n",
    "unemployment"
   ]
  },
  {
   "cell_type": "raw",
   "metadata": {},
   "source": [
    "# END SOLUTION"
   ]
  },
  {
   "cell_type": "raw",
   "metadata": {},
   "source": [
    "# BEGIN TESTS"
   ]
  },
  {
   "cell_type": "code",
   "execution_count": 3,
   "metadata": {
    "id": "BnrzCO8M1Gfb",
    "outputId": "05a4947d-182c-4eed-bf6d-3abd71e78eaa"
   },
   "outputs": [
    {
     "data": {
      "text/plain": [
       "True"
      ]
     },
     "execution_count": 3,
     "metadata": {},
     "output_type": "execute_result"
    }
   ],
   "source": [
    "\"\"\" # BEGIN TEST CONFIG\n",
    "hidden: false\n",
    "points: 0.5\n",
    "success_message: ✅ You assigned a Table to `unemployment`\n",
    "failure_message: ❌ You did not assign a Table to `unemployment`\n",
    "\"\"\" # END TEST CONFIG\n",
    "\n",
    "type(unemployment) == Table"
   ]
  },
  {
   "cell_type": "code",
   "execution_count": 4,
   "metadata": {},
   "outputs": [
    {
     "data": {
      "text/plain": [
       "True"
      ]
     },
     "execution_count": 4,
     "metadata": {},
     "output_type": "execute_result"
    }
   ],
   "source": [
    "\"\"\" # BEGIN TEST CONFIG\n",
    "hidden: false\n",
    "points: 0.5\n",
    "success_message: ✅ Your Table has the correct labels\n",
    "failure_message: ❌ Your Table doesn't have the correct labels, did you load in the correct file?\n",
    "\"\"\" # END TEST CONFIG\n",
    "\n",
    "unemployment.labels == ('Date', 'NEI', 'NEI-PTER')"
   ]
  },
  {
   "cell_type": "raw",
   "metadata": {},
   "source": [
    "# END TESTS"
   ]
  },
  {
   "cell_type": "raw",
   "metadata": {},
   "source": [
    "# END QUESTION"
   ]
  },
  {
   "cell_type": "raw",
   "metadata": {},
   "source": [
    "# BEGIN QUESTION\n",
    "name: q1_2"
   ]
  },
  {
   "cell_type": "markdown",
   "metadata": {
    "id": "b7fqYZRY1Gfc"
   },
   "source": [
    "#### Question 1.2.\n",
    "\n",
    "Sort the data in descending order by NEI, naming the sorted table `by_nei`.  Create another table called `by_nei_pter` that's sorted in descending order by NEI-PTER instead."
   ]
  },
  {
   "cell_type": "raw",
   "metadata": {},
   "source": [
    "# BEGIN SOLUTION"
   ]
  },
  {
   "cell_type": "code",
   "execution_count": 5,
   "metadata": {
    "id": "cRmiz3s21Gfc"
   },
   "outputs": [],
   "source": [
    "by_nei = unemployment.sort('NEI', descending=True) # SOLUTION\n",
    "by_nei_pter = unemployment.sort('NEI-PTER', descending=True) # SOLUTION"
   ]
  },
  {
   "cell_type": "raw",
   "metadata": {},
   "source": [
    "# END SOLUTION"
   ]
  },
  {
   "cell_type": "raw",
   "metadata": {},
   "source": [
    "# BEGIN TESTS"
   ]
  },
  {
   "cell_type": "code",
   "execution_count": 6,
   "metadata": {
    "id": "yf39FEXI1Gfd",
    "outputId": "78b76ec3-f5df-43e6-fb27-517afe0235b2"
   },
   "outputs": [
    {
     "data": {
      "text/html": [
       "<table border=\"1\" class=\"dataframe\">\n",
       "    <thead>\n",
       "        <tr>\n",
       "            <th>Date</th> <th>NEI</th> <th>NEI-PTER</th>\n",
       "        </tr>\n",
       "    </thead>\n",
       "    <tbody>\n",
       "        <tr>\n",
       "            <td>2020-04-01</td> <td>15.5246</td> <td>17.7342 </td>\n",
       "        </tr>\n",
       "    </tbody>\n",
       "</table>"
      ],
      "text/plain": [
       "Date       | NEI     | NEI-PTER\n",
       "2020-04-01 | 15.5246 | 17.7342"
      ]
     },
     "execution_count": 6,
     "metadata": {},
     "output_type": "execute_result"
    }
   ],
   "source": [
    "\"\"\" # BEGIN TEST CONFIG\n",
    "hidden: false\n",
    "points: 0.5\n",
    "success_message: ✅ You sorted the NEI Table correctly\n",
    "failure_message: ❌ You did not sort the NEI Table correctly. Did you sort in ascending order?\n",
    "\"\"\" # END TEST CONFIG\n",
    "\n",
    "by_nei.take(0)"
   ]
  },
  {
   "cell_type": "code",
   "execution_count": 7,
   "metadata": {
    "id": "zRsS7Bgn1Gfe",
    "outputId": "84708f8c-5677-436d-cc9c-8a089da36d7b"
   },
   "outputs": [
    {
     "data": {
      "text/html": [
       "<table border=\"1\" class=\"dataframe\">\n",
       "    <thead>\n",
       "        <tr>\n",
       "            <th>Date</th> <th>NEI</th> <th>NEI-PTER</th>\n",
       "        </tr>\n",
       "    </thead>\n",
       "    <tbody>\n",
       "        <tr>\n",
       "            <td>2020-04-01</td> <td>15.5246</td> <td>17.7342 </td>\n",
       "        </tr>\n",
       "    </tbody>\n",
       "</table>"
      ],
      "text/plain": [
       "Date       | NEI     | NEI-PTER\n",
       "2020-04-01 | 15.5246 | 17.7342"
      ]
     },
     "execution_count": 7,
     "metadata": {},
     "output_type": "execute_result"
    }
   ],
   "source": [
    "\"\"\" # BEGIN TEST CONFIG\n",
    "hidden: false\n",
    "points: 0.5\n",
    "success_message: ✅ You sorted the NEI-PTER Table correctly\n",
    "failure_message: ❌ You did not sort the NEI-PTER Table correctly. Did you sort in ascending order?\n",
    "\"\"\" # END TEST CONFIG\n",
    "\n",
    "by_nei_pter.take(0)"
   ]
  },
  {
   "cell_type": "raw",
   "metadata": {},
   "source": [
    "# END TESTS"
   ]
  },
  {
   "cell_type": "raw",
   "metadata": {},
   "source": [
    "# END QUESTION"
   ]
  },
  {
   "cell_type": "raw",
   "metadata": {},
   "source": [
    "# BEGIN QUESTION\n",
    "name: q1_3"
   ]
  },
  {
   "cell_type": "markdown",
   "metadata": {
    "id": "MBZEWpAE1Gfi"
   },
   "source": [
    "#### Question 1.3.\n",
    "\n",
    "Use `take` to make a table that only has the `Date` and `NEI` columns which contains only the data for the 10 months when NEI was the greatest. Call the new Table `greatest_nei` and sort it in descending order based on the `NEI` column. Recall that each row of `unemployment` represents a month.\n",
    "\n",
    "**Hint:** You will need to remember / look up how to keep only certain columns and rows from a Table."
   ]
  },
  {
   "cell_type": "raw",
   "metadata": {},
   "source": [
    "# BEGIN SOLUTION"
   ]
  },
  {
   "cell_type": "code",
   "execution_count": 8,
   "metadata": {
    "id": "kFXsuE851Gfj",
    "outputId": "f7f38a59-c4cf-4922-b9e5-02f1dff7a7e8"
   },
   "outputs": [
    {
     "data": {
      "text/html": [
       "<table border=\"1\" class=\"dataframe\">\n",
       "    <thead>\n",
       "        <tr>\n",
       "            <th>Date</th> <th>NEI</th>\n",
       "        </tr>\n",
       "    </thead>\n",
       "    <tbody>\n",
       "        <tr>\n",
       "            <td>2020-04-01</td> <td>15.5246</td>\n",
       "        </tr>\n",
       "        <tr>\n",
       "            <td>2020-05-01</td> <td>14.2787</td>\n",
       "        </tr>\n",
       "        <tr>\n",
       "            <td>2020-06-01</td> <td>12.5196</td>\n",
       "        </tr>\n",
       "        <tr>\n",
       "            <td>2020-07-01</td> <td>11.9134</td>\n",
       "        </tr>\n",
       "        <tr>\n",
       "            <td>2009-10-01</td> <td>10.9409</td>\n",
       "        </tr>\n",
       "        <tr>\n",
       "            <td>2009-06-01</td> <td>10.9056</td>\n",
       "        </tr>\n",
       "        <tr>\n",
       "            <td>2009-05-01</td> <td>10.8654</td>\n",
       "        </tr>\n",
       "        <tr>\n",
       "            <td>2009-12-01</td> <td>10.8597</td>\n",
       "        </tr>\n",
       "        <tr>\n",
       "            <td>2009-09-01</td> <td>10.8282</td>\n",
       "        </tr>\n",
       "        <tr>\n",
       "            <td>2009-11-01</td> <td>10.7959</td>\n",
       "        </tr>\n",
       "    </tbody>\n",
       "</table>"
      ],
      "text/plain": [
       "Date       | NEI\n",
       "2020-04-01 | 15.5246\n",
       "2020-05-01 | 14.2787\n",
       "2020-06-01 | 12.5196\n",
       "2020-07-01 | 11.9134\n",
       "2009-10-01 | 10.9409\n",
       "2009-06-01 | 10.9056\n",
       "2009-05-01 | 10.8654\n",
       "2009-12-01 | 10.8597\n",
       "2009-09-01 | 10.8282\n",
       "2009-11-01 | 10.7959"
      ]
     },
     "execution_count": 8,
     "metadata": {},
     "output_type": "execute_result"
    }
   ],
   "source": [
    "greatest_nei = by_nei.drop('NEI-PTER').take(np.arange(10)) # SOLUTION\n",
    "greatest_nei"
   ]
  },
  {
   "cell_type": "raw",
   "metadata": {},
   "source": [
    "# END SOLUTION"
   ]
  },
  {
   "cell_type": "raw",
   "metadata": {},
   "source": [
    "# BEGIN TESTS"
   ]
  },
  {
   "cell_type": "code",
   "execution_count": 9,
   "metadata": {
    "id": "ZoUL0KSY1Gfv",
    "outputId": "a4c81436-26dc-4b7e-ca1a-41f24bf15207"
   },
   "outputs": [
    {
     "data": {
      "text/plain": [
       "True"
      ]
     },
     "execution_count": 9,
     "metadata": {},
     "output_type": "execute_result"
    }
   ],
   "source": [
    "\"\"\" # BEGIN TEST CONFIG\n",
    "hidden: false\n",
    "points: 0.25\n",
    "success_message: ✅ Your Table has 10 rows\n",
    "failure_message: ❌ Your Table does not have 10 rows. Make sure you're using `take` and not `show` to keep the top 10 rows.\n",
    "\"\"\" # END TEST CONFIG\n",
    "\n",
    "greatest_nei.num_rows == 10"
   ]
  },
  {
   "cell_type": "code",
   "execution_count": 10,
   "metadata": {},
   "outputs": [
    {
     "data": {
      "text/plain": [
       "True"
      ]
     },
     "execution_count": 10,
     "metadata": {},
     "output_type": "execute_result"
    }
   ],
   "source": [
    "\"\"\" # BEGIN TEST CONFIG\n",
    "hidden: false\n",
    "points: 0.25\n",
    "success_message: ✅ Your Table has the correct column labels, and you dropped the NEI-PTER column\n",
    "failure_message: ❌ Your Table does not have the correct labels and/or has an incorrect number of columns. Make sure you remove the NEI-PTER column\n",
    "\"\"\" # END TEST CONFIG\n",
    "\n",
    "greatest_nei.num_columns == 2 and greatest_nei.labels == ('Date', 'NEI')"
   ]
  },
  {
   "cell_type": "code",
   "execution_count": 11,
   "metadata": {
    "id": "e8e2Tq6V1Gfu",
    "outputId": "c905884f-6898-4922-ede6-2b592cc9d840"
   },
   "outputs": [
    {
     "data": {
      "text/html": [
       "<table border=\"1\" class=\"dataframe\">\n",
       "    <thead>\n",
       "        <tr>\n",
       "            <th>Date</th> <th>NEI</th>\n",
       "        </tr>\n",
       "    </thead>\n",
       "    <tbody>\n",
       "        <tr>\n",
       "            <td>2020-04-01</td> <td>15.5246</td>\n",
       "        </tr>\n",
       "    </tbody>\n",
       "</table>"
      ],
      "text/plain": [
       "Date       | NEI\n",
       "2020-04-01 | 15.5246"
      ]
     },
     "execution_count": 11,
     "metadata": {},
     "output_type": "execute_result"
    }
   ],
   "source": [
    "\"\"\" # BEGIN TEST CONFIG\n",
    "hidden: false\n",
    "points: 0.25\n",
    "success_message: ✅ The first row is correct\n",
    "failure_message: ❌ The first row is incorrect\n",
    "\"\"\" # END TEST CONFIG\n",
    "\n",
    "greatest_nei.take(0)"
   ]
  },
  {
   "cell_type": "code",
   "execution_count": 12,
   "metadata": {
    "id": "UUFrkCor1Gfw",
    "outputId": "43452fc9-80cb-4018-e27c-f932ef3e7636"
   },
   "outputs": [
    {
     "data": {
      "text/html": [
       "<table border=\"1\" class=\"dataframe\">\n",
       "    <thead>\n",
       "        <tr>\n",
       "            <th>Date</th> <th>NEI</th>\n",
       "        </tr>\n",
       "    </thead>\n",
       "    <tbody>\n",
       "        <tr>\n",
       "            <td>2009-11-01</td> <td>10.7959</td>\n",
       "        </tr>\n",
       "    </tbody>\n",
       "</table>"
      ],
      "text/plain": [
       "Date       | NEI\n",
       "2009-11-01 | 10.7959"
      ]
     },
     "execution_count": 12,
     "metadata": {},
     "output_type": "execute_result"
    }
   ],
   "source": [
    "\"\"\" # BEGIN TEST CONFIG\n",
    "hidden: false\n",
    "points: 0.25\n",
    "success_message: ✅ The last row is correct\n",
    "failure_message: ❌ The last row is incorrect\n",
    "\"\"\" # END TEST CONFIG\n",
    "\n",
    "greatest_nei.take(9)"
   ]
  },
  {
   "cell_type": "raw",
   "metadata": {},
   "source": [
    "# END TESTS"
   ]
  },
  {
   "cell_type": "raw",
   "metadata": {},
   "source": [
    "# END QUESTION"
   ]
  },
  {
   "cell_type": "raw",
   "metadata": {},
   "source": [
    "# BEGIN QUESTION\n",
    "name: q1_4"
   ]
  },
  {
   "cell_type": "markdown",
   "metadata": {
    "id": "TqCJl6lf1Gfx"
   },
   "source": [
    "#### Question 1.4.\n",
    "\n",
    "It's believed that many people became PTER (recall: \"Part-Time for Economic Reasons\") in the \"Great Recession\" of 2008-2009 and during the first phase of the COVID-19 pandemic in 2020-2021. The next few questions will help you to create a set of data that will allow you to investigate this claim.\n",
    "\n",
    "Recall that NEI-PTER is the percentage of people who are unemployed (and counted in the NEI) plus the percentage of people who are PTER. **Compute an array** containing the percentage of people who were only PTER in each month.  (The first element of the array should correspond to the first row of `unemployment`, and so on.)\n",
    "\n",
    "*Note:* Use the original `unemployment` table for this."
   ]
  },
  {
   "cell_type": "raw",
   "metadata": {},
   "source": [
    "# BEGIN SOLUTION"
   ]
  },
  {
   "cell_type": "code",
   "execution_count": 13,
   "metadata": {
    "id": "npanx04p1Gf2",
    "outputId": "5f72c7b0-6e53-4214-d7d1-7543f74505f0"
   },
   "outputs": [
    {
     "data": {
      "text/plain": [
       "array([ 1.06268125,  1.16031337,  1.21447796,  1.18488823,  1.2155997 ,\n",
       "        1.21486897,  1.16137029,  1.11913143,  1.11125425,  1.14026505,\n",
       "        1.15066178,  1.1175817 ,  1.19065066,  1.08464624,  1.10303127,\n",
       "        1.09144925,  1.12984901,  1.12338822,  1.13581842,  1.14549928,\n",
       "        1.15257142,  1.12202652,  1.13609871,  1.10910461,  1.04012698,\n",
       "        1.08690148,  1.095194  ,  1.08253731,  1.07672746,  1.07318674,\n",
       "        1.10691565,  1.09952705,  1.08671488,  1.08364285,  1.00779434,\n",
       "        1.08013353,  1.06170078,  1.03680459,  1.01050837,  1.04386578,\n",
       "        0.99504918,  0.98370354,  1.01387767,  0.99811532,  0.98111969,\n",
       "        0.97828148,  0.9729393 ,  0.94299517,  0.97691556,  0.94252929,\n",
       "        0.93798693,  0.88237957,  0.91585941,  0.922517  ,  0.94849739,\n",
       "        0.86819142,  0.84112623,  0.8400447 ,  0.80588641,  0.82482853,\n",
       "        0.84136372,  0.82670565,  0.85485455,  0.7934364 ,  0.82915388,\n",
       "        0.81957589,  0.82644957,  0.80163368,  0.79285552,  0.76334902,\n",
       "        0.75902521,  0.7809165 ,  0.75699949,  0.74622584,  0.75995074,\n",
       "        0.72525605,  0.78659592,  0.75075097,  0.75539068,  0.77399154,\n",
       "        0.75991766,  0.75280571,  0.78958638,  0.74999764,  0.77559727,\n",
       "        0.76193319,  0.76314686,  0.75065881,  0.81369313,  0.88127199,\n",
       "        0.84188481,  0.81330575,  0.97912221,  1.02687874,  0.96826829,\n",
       "        1.0074633 ,  0.93493264,  0.9756898 ,  0.94469373,  0.9524593 ,\n",
       "        0.95400918,  0.93743025,  0.96799167,  1.02597524,  0.9913684 ,\n",
       "        0.99409723,  0.95924292,  0.97782456,  1.04289385,  1.08003689,\n",
       "        1.05853417,  1.07465117,  1.04634512,  1.04696004,  1.06392859,\n",
       "        1.03742239,  1.10133524,  1.0749753 ,  1.06272621,  1.06724348,\n",
       "        1.06166321,  1.00978438,  1.06840374,  1.01094493,  1.03752147,\n",
       "        0.99975725,  1.00127941,  1.02877302,  1.00464283,  1.06580822,\n",
       "        0.99080102,  0.98863683,  0.97397948,  0.94392088,  0.97954448,\n",
       "        0.92755281,  0.96432522,  0.98461336,  0.97412771,  1.01339434,\n",
       "        1.03459345,  0.94197561,  0.90729396,  0.9016878 ,  0.90003807,\n",
       "        0.91867087,  0.87496907,  0.82823083,  0.90425754,  0.94124561,\n",
       "        0.93934483,  0.93715935,  0.91637587,  0.95150256,  0.89311316,\n",
       "        0.90579443,  0.91857991,  0.90811553,  0.92363925,  0.90434175,\n",
       "        0.96969258,  0.93093633,  0.95080165,  1.01077452,  0.99556019,\n",
       "        0.94175966,  0.95110333,  0.98147815,  1.03917586,  1.04321701,\n",
       "        1.05296958,  1.08590435,  1.13507676,  1.18459479,  1.28500915,\n",
       "        1.2718304 ,  1.32596335,  1.42935957,  1.53947744,  1.70075077,\n",
       "        1.73027392,  1.86060908,  1.93924354,  1.85615685,  1.93093857,\n",
       "        1.92852378,  1.93139021,  1.92016155,  1.8597197 ,  1.89943991,\n",
       "        1.9040231 ,  1.90577312,  1.80963112,  1.87761369,  1.93783426,\n",
       "        1.91918626,  1.85926825,  1.82279663,  1.83927316,  1.84575459,\n",
       "        1.89566406,  1.8580631 ,  1.83870453,  1.86222447,  1.78079485,\n",
       "        1.77276865,  1.81095358,  1.81207805,  1.80059442,  1.77618553,\n",
       "        1.76656427,  1.81373993,  1.84313097,  1.803843  ,  1.74585906,\n",
       "        1.69750302,  1.7037597 ,  1.7084603 ,  1.61405516,  1.63736509,\n",
       "        1.68240402,  1.67353487,  1.67976118,  1.62341874,  1.71490362,\n",
       "        1.69515392,  1.66527437,  1.62921315,  1.62903013,  1.67408995,\n",
       "        1.57575231,  1.62815936,  1.61234472,  1.65565116,  1.64750543,\n",
       "        1.5794925 ,  1.57704996,  1.64959914,  1.56799974,  1.59119293,\n",
       "        1.44940066,  1.48337866,  1.49858035,  1.51922026,  1.44962717,\n",
       "        1.50550532,  1.4909306 ,  1.45532961,  1.4004709 ,  1.45252289,\n",
       "        1.3868876 ,  1.37692841,  1.33872271,  1.33798113,  1.32097945,\n",
       "        1.31963065,  1.30220432,  1.27493714,  1.25097509,  1.30356176,\n",
       "        1.17901204,  1.18396709,  1.22402665,  1.20608739,  1.16609191,\n",
       "        1.18895939,  1.19907052,  1.18614841,  1.25940019,  1.13093247,\n",
       "        1.1730923 ,  1.21285018,  1.13549228,  1.1888271 ,  1.11833278,\n",
       "        1.10242845,  1.13217815,  1.11273215,  1.08410254,  1.04044136,\n",
       "        1.01221311,  1.02864737,  1.04139594,  1.04333412,  0.97035223,\n",
       "        0.94690283,  0.92814621,  0.97377048,  0.99286238,  1.02333269,\n",
       "        0.99274079,  0.97417355,  0.94776702,  0.92091484,  0.89193958,\n",
       "        0.84191485,  0.84532161,  0.8570087 ,  0.89284425,  0.90105706,\n",
       "        1.03346527,  0.88228599,  0.91325951,  0.92942935,  0.8329647 ,\n",
       "        0.84534458,  0.75662815,  0.81208097,  0.76664746,  0.79617721,\n",
       "        0.79119332,  0.79735245,  0.88056794,  0.89712013,  1.16653209,\n",
       "        2.20961105,  2.07461204,  1.73271034,  1.57816063,  1.37513461,\n",
       "        1.12897158,  1.22343641,  1.24107917,  1.16638975,  1.20615731,\n",
       "        1.22682118,  1.18289778,  1.05513092,  1.00161616,  0.90287287,\n",
       "        0.83273095,  0.77659984,  0.76919809,  0.77735709,  0.78222957,\n",
       "        0.74138899,  0.80082032,  0.848744  ,  0.85821891,  0.80615386,\n",
       "        0.80823548,  0.71344075,  0.73066245,  0.70561583,  0.64211003,\n",
       "        0.62532178,  0.66167521,  0.7208321 ,  0.85409174,  0.8278509 ,\n",
       "        0.83816714,  0.77308767,  0.68566785,  0.81129623,  0.73841022])"
      ]
     },
     "execution_count": 13,
     "metadata": {},
     "output_type": "execute_result"
    }
   ],
   "source": [
    "pter = unemployment.column('NEI-PTER') - unemployment.column('NEI') # SOLUTION\n",
    "pter"
   ]
  },
  {
   "cell_type": "raw",
   "metadata": {},
   "source": [
    "# END SOLUTION"
   ]
  },
  {
   "cell_type": "raw",
   "metadata": {},
   "source": [
    "# BEGIN TESTS"
   ]
  },
  {
   "cell_type": "code",
   "execution_count": 14,
   "metadata": {},
   "outputs": [
    {
     "data": {
      "text/plain": [
       "True"
      ]
     },
     "execution_count": 14,
     "metadata": {},
     "output_type": "execute_result"
    }
   ],
   "source": [
    "\"\"\" # BEGIN TEST CONFIG\n",
    "hidden: false\n",
    "points: 0.5\n",
    "success_message: ✅ Your array has the correct number of elements\n",
    "failure_message: ❌ `pter` is not an array and/or it does not have the correct number of elements in the array\n",
    "\"\"\" # END TEST CONFIG\n",
    "\n",
    "type(pter) == np.ndarray and len(pter) == 355"
   ]
  },
  {
   "cell_type": "code",
   "execution_count": 15,
   "metadata": {
    "id": "2Uj7zZrE1Gf3",
    "outputId": "dd11b061-371d-4a61-86b9-8fa7767db943"
   },
   "outputs": [
    {
     "data": {
      "text/plain": [
       "True"
      ]
     },
     "execution_count": 15,
     "metadata": {},
     "output_type": "execute_result"
    }
   ],
   "source": [
    "\"\"\" # BEGIN TEST CONFIG\n",
    "hidden: false\n",
    "points: 0.5\n",
    "success_message: ✅ You correctly computed the PTER values\n",
    "failure_message: ❌ You did not correctly compute the PTER values. Did you subtract the columns in the wrong order?\n",
    "\"\"\" # END TEST CONFIG\n",
    "\n",
    "np.isclose( np.average(pter), 1.1446692178957745 ) and np.isclose( np.std(pter), 0.34417583268451174 )"
   ]
  },
  {
   "cell_type": "raw",
   "metadata": {},
   "source": [
    "# END TESTS"
   ]
  },
  {
   "cell_type": "raw",
   "metadata": {},
   "source": [
    "# END QUESTION"
   ]
  },
  {
   "cell_type": "raw",
   "metadata": {},
   "source": [
    "# BEGIN QUESTION\n",
    "name: q1_5"
   ]
  },
  {
   "cell_type": "markdown",
   "metadata": {
    "id": "eDaDtGx31Gf4"
   },
   "source": [
    "#### Question 1.5.\n",
    "\n",
    "Add the `pter` array as a column named `PTER` to the original `unemployment` Table and sort the resulting Table by the `PTER` column in descending order. Call the new Table `by_pter`.\n",
    "\n",
    "Try to do this with a single line of code, if you can."
   ]
  },
  {
   "cell_type": "raw",
   "metadata": {},
   "source": [
    "# BEGIN SOLUTION"
   ]
  },
  {
   "cell_type": "code",
   "execution_count": 16,
   "metadata": {
    "id": "lSZqI0D_1Gf4",
    "outputId": "4f4db14c-a235-4225-fe96-827c4ee34129"
   },
   "outputs": [
    {
     "data": {
      "text/html": [
       "<table border=\"1\" class=\"dataframe\">\n",
       "    <thead>\n",
       "        <tr>\n",
       "            <th>Date</th> <th>NEI</th> <th>NEI-PTER</th> <th>PTER</th>\n",
       "        </tr>\n",
       "    </thead>\n",
       "    <tbody>\n",
       "        <tr>\n",
       "            <td>2020-04-01</td> <td>15.5246</td> <td>17.7342 </td> <td>2.20961</td>\n",
       "        </tr>\n",
       "        <tr>\n",
       "            <td>2020-05-01</td> <td>14.2787</td> <td>16.3533 </td> <td>2.07461</td>\n",
       "        </tr>\n",
       "        <tr>\n",
       "            <td>2009-03-01</td> <td>10.5686</td> <td>12.5078 </td> <td>1.93924</td>\n",
       "        </tr>\n",
       "        <tr>\n",
       "            <td>2010-03-01</td> <td>10.7548</td> <td>12.6927 </td> <td>1.93783</td>\n",
       "        </tr>\n",
       "        <tr>\n",
       "            <td>2009-07-01</td> <td>10.7435</td> <td>12.6749 </td> <td>1.93139</td>\n",
       "        </tr>\n",
       "        <tr>\n",
       "            <td>2009-05-01</td> <td>10.8654</td> <td>12.7964 </td> <td>1.93094</td>\n",
       "        </tr>\n",
       "        <tr>\n",
       "            <td>2009-06-01</td> <td>10.9056</td> <td>12.8341 </td> <td>1.92852</td>\n",
       "        </tr>\n",
       "        <tr>\n",
       "            <td>2009-08-01</td> <td>10.7565</td> <td>12.6766 </td> <td>1.92016</td>\n",
       "        </tr>\n",
       "        <tr>\n",
       "            <td>2010-04-01</td> <td>10.6038</td> <td>12.5229 </td> <td>1.91919</td>\n",
       "        </tr>\n",
       "        <tr>\n",
       "            <td>2009-12-01</td> <td>10.8597</td> <td>12.7655 </td> <td>1.90577</td>\n",
       "        </tr>\n",
       "    </tbody>\n",
       "</table>\n",
       "<p>... (345 rows omitted)</p>"
      ],
      "text/plain": [
       "Date       | NEI     | NEI-PTER | PTER\n",
       "2020-04-01 | 15.5246 | 17.7342  | 2.20961\n",
       "2020-05-01 | 14.2787 | 16.3533  | 2.07461\n",
       "2009-03-01 | 10.5686 | 12.5078  | 1.93924\n",
       "2010-03-01 | 10.7548 | 12.6927  | 1.93783\n",
       "2009-07-01 | 10.7435 | 12.6749  | 1.93139\n",
       "2009-05-01 | 10.8654 | 12.7964  | 1.93094\n",
       "2009-06-01 | 10.9056 | 12.8341  | 1.92852\n",
       "2009-08-01 | 10.7565 | 12.6766  | 1.92016\n",
       "2010-04-01 | 10.6038 | 12.5229  | 1.91919\n",
       "2009-12-01 | 10.8597 | 12.7655  | 1.90577\n",
       "... (345 rows omitted)"
      ]
     },
     "execution_count": 16,
     "metadata": {},
     "output_type": "execute_result"
    }
   ],
   "source": [
    "by_pter = unemployment.with_column('PTER', pter).sort('PTER', descending=True) # SOLUTION\n",
    "by_pter"
   ]
  },
  {
   "cell_type": "raw",
   "metadata": {},
   "source": [
    "# END SOLUTION"
   ]
  },
  {
   "cell_type": "raw",
   "metadata": {},
   "source": [
    "# BEGIN TESTS"
   ]
  },
  {
   "cell_type": "code",
   "execution_count": 17,
   "metadata": {
    "id": "u7IRgBPK1Gf5",
    "outputId": "f80629cd-871d-492a-ff7f-19e1fb1526d7"
   },
   "outputs": [
    {
     "data": {
      "text/plain": [
       "True"
      ]
     },
     "execution_count": 17,
     "metadata": {},
     "output_type": "execute_result"
    }
   ],
   "source": [
    "\"\"\" # BEGIN TEST CONFIG\n",
    "hidden: false\n",
    "points: 0.25\n",
    "success_message: ✅ `by_pter` is Table\n",
    "failure_message: ❌ `by_pter` is not a Table. Did you create an array by accident?\n",
    "\"\"\" # END TEST CONFIG\n",
    "\n",
    "type(by_pter) == Table"
   ]
  },
  {
   "cell_type": "code",
   "execution_count": 18,
   "metadata": {},
   "outputs": [
    {
     "data": {
      "text/plain": [
       "True"
      ]
     },
     "execution_count": 18,
     "metadata": {},
     "output_type": "execute_result"
    }
   ],
   "source": [
    "\"\"\" # BEGIN TEST CONFIG\n",
    "hidden: false\n",
    "points: 0.25\n",
    "success_message: ✅ `by_pter` has the correct labels in the correct order\n",
    "failure_message: ❌ `by_pter` has incorrect labels, or they are in the incorrect order\n",
    "\"\"\" # END TEST CONFIG\n",
    "\n",
    "by_pter.labels == ('Date', 'NEI', 'NEI-PTER', 'PTER')"
   ]
  },
  {
   "cell_type": "code",
   "execution_count": 19,
   "metadata": {},
   "outputs": [
    {
     "data": {
      "text/plain": [
       "True"
      ]
     },
     "execution_count": 19,
     "metadata": {},
     "output_type": "execute_result"
    }
   ],
   "source": [
    "\"\"\" # BEGIN TEST CONFIG\n",
    "hidden: false\n",
    "points: 0.5\n",
    "success_message: ✅ `by_pter` Table is correctly sorted by the PTER column\n",
    "failure_message: ❌ `by_pter` Table is not correctly sorted by the PTER column. Did you accidentally sort in ascending order? \n",
    "\"\"\" # END TEST CONFIG\n",
    "\n",
    "np.allclose( by_pter.column('PTER').take(np.arange(10)), np.array([ 2.20961105,  2.07461204,  1.93924354,  1.93783426,  1.93139021, 1.93093857,  1.92852378,  1.92016155,  1.91918626,  1.90577312]))"
   ]
  },
  {
   "cell_type": "raw",
   "metadata": {},
   "source": [
    "# END TESTS"
   ]
  },
  {
   "cell_type": "raw",
   "metadata": {},
   "source": [
    "# END QUESTION"
   ]
  },
  {
   "cell_type": "raw",
   "metadata": {},
   "source": [
    "# BEGIN QUESTION\n",
    "name: q1_6\n",
    "manual: true"
   ]
  },
  {
   "cell_type": "markdown",
   "metadata": {
    "id": "XbOh2vHu1Gf5"
   },
   "source": [
    "#### Question 1.6.\n",
    "\n",
    "It would be helpful to create a line plot of the PTER over time to see how it has changed over the years. Unfortunately, the `Date` column is a string that can't be used as the indendent variable of a line plot. You will need to create a new column, `Year`, that represents the year as a `float`. For example, January 1994 should be represented at `1994.0`, February 2000 should be represented as `2000.0833333333` (`0.0833333333` is $\\approx \\frac{1}{12}$), March 2020 would be represented as `2020.1666666667` and so on. \n",
    "\n",
    "First, think about how you could quickly create an array of these `float` values using a `numpy` function. Remember, the first row of the data starts with January 1994 (`1994.0`) and each row increases the year value by one twelfth of a year. Store this array to the name `year_array`.\n",
    "\n",
    "Then, add both the `year_array` array and the `pter` array to the original `unemployment` table. Label these columns `Year` and `PTER`. \n",
    "\n",
    "Lastly, generate a line plot using one of the table methods you've learned in class."
   ]
  },
  {
   "cell_type": "raw",
   "metadata": {},
   "source": [
    "# BEGIN SOLUTION"
   ]
  },
  {
   "cell_type": "code",
   "execution_count": 20,
   "metadata": {
    "id": "_QR2iOdV1Gf5",
    "outputId": "6fc925d0-0abe-490d-e15a-782c840a62ae"
   },
   "outputs": [
    {
     "data": {
      "image/png": "[encoded data removed]",
      "text/plain": [
       "<Figure size 600x600 with 1 Axes>"
      ]
     },
     "metadata": {},
     "output_type": "display_data"
    }
   ],
   "source": [
    "year_array = 1994 + (np.arange(by_pter.num_rows) / 12) # SOLUTION\n",
    "pter_over_time = unemployment.with_columns('Year', year_array, 'PTER', pter) # SOLUTION\n",
    "pter_over_time.plot('Year', 'PTER') # SOLUTION"
   ]
  },
  {
   "cell_type": "raw",
   "metadata": {},
   "source": [
    "# END SOLUTION"
   ]
  },
  {
   "cell_type": "raw",
   "metadata": {},
   "source": [
    "# END QUESTION"
   ]
  },
  {
   "cell_type": "raw",
   "metadata": {},
   "source": [
    "# BEGIN QUESTION\n",
    "name: q1_7\n",
    "manual: true"
   ]
  },
  {
   "cell_type": "markdown",
   "metadata": {
    "id": "nDUo6B-A1Gf_"
   },
   "source": [
    "#### Question 1.7.\n",
    "\n",
    "Were PTER rates higher than usual during the Great Recession and during the COVID-19 pandemic (that is to say, were PTER rates particularly high in the years 2008-2011 and 2020-2021)? Write an explanation of your opinion backed by the data displayed in the line plot created in the previous question, and any additional statistical analysis you perform. Cite specific historical events that align with key dates when possible to add context to your explanation."
   ]
  },
  {
   "cell_type": "raw",
   "metadata": {},
   "source": [
    "# BEGIN SOLUTION"
   ]
  },
  {
   "cell_type": "markdown",
   "metadata": {
    "id": "MLx3IoSq1GgA"
   },
   "source": [
    "**SOLUTION:** The average PTER rate during the time period of the data set is about 1.145%. Starting in the year 2008 the PTER rate climbs to almost 2% before the year 2010 indicating that the Great Recession may have been the cause of the almost doubling of the PTER rate. The PTER rate takes until almost 2017 to return back to around this average value. Then, in early 2020 the PTER rate spikes to around 2.2% during the earliest phases of the COVID-19 pandemic. It quickly dropped as the USA reopened throughout the year 2020 and early 2021."
   ]
  },
  {
   "cell_type": "raw",
   "metadata": {},
   "source": [
    "# END SOLUTION"
   ]
  },
  {
   "cell_type": "raw",
   "metadata": {},
   "source": [
    "# END QUESTION"
   ]
  },
  {
   "cell_type": "markdown",
   "metadata": {
    "id": "b4zLSHhg1GgC"
   },
   "source": [
    "## 2. Birth Rates\n"
   ]
  },
  {
   "cell_type": "markdown",
   "metadata": {
    "id": "3Zf5FA951GgC"
   },
   "source": [
    "The following table gives census-based population estimates for each state on both July 1, 2019 and July 1, 2020. The last four columns describe the components of the estimated change in population during this time interval. **For all questions below, assume that the word \"states\" refers to all 52 rows including Puerto Rico & the District of Columbia.**\n",
    "\n",
    "The data was taken from the [US Census Website](https://www2.census.gov/programs-surveys/popest/datasets/2010-2020/national/totals/). If you want to read more about the different column descriptions, click [here](https://www2.census.gov/programs-surveys/popest/datasets/2010-2016/national/totals/nst-est2016-alldata.pdf)!\n",
    "\n",
    "The raw data is a bit messy and contains a large amount of additional data - run the cell below to pare down and clean the table to make it easier to work with."
   ]
  },
  {
   "cell_type": "code",
   "execution_count": 21,
   "metadata": {
    "id": "fJcJV8dF1GgC",
    "outputId": "bc417098-4c9f-4805-f91e-f4cdb2d101ea"
   },
   "outputs": [
    {
     "data": {
      "text/html": [
       "<table border=\"1\" class=\"dataframe\">\n",
       "    <thead>\n",
       "        <tr>\n",
       "            <th>REGION</th> <th>NAME</th> <th>2019</th> <th>2020</th> <th>BIRTHS</th> <th>DEATHS</th> <th>MIGRATION</th> <th>OTHER</th>\n",
       "        </tr>\n",
       "    </thead>\n",
       "    <tbody>\n",
       "        <tr>\n",
       "            <td>3     </td> <td>Alabama   </td> <td>4,907,965 </td> <td>4,921,532 </td> <td>56,739 </td> <td>58,354 </td> <td>15,193   </td> <td>-11  </td>\n",
       "        </tr>\n",
       "        <tr>\n",
       "            <td>4     </td> <td>Alaska    </td> <td>733,603   </td> <td>731,158   </td> <td>9,733  </td> <td>5,249  </td> <td>-6,902   </td> <td>-27  </td>\n",
       "        </tr>\n",
       "        <tr>\n",
       "            <td>4     </td> <td>Arizona   </td> <td>7,291,843 </td> <td>7,421,401 </td> <td>81,451 </td> <td>66,385 </td> <td>114,706  </td> <td>-214 </td>\n",
       "        </tr>\n",
       "        <tr>\n",
       "            <td>3     </td> <td>Arkansas  </td> <td>3,020,985 </td> <td>3,030,522 </td> <td>36,332 </td> <td>33,832 </td> <td>7,067    </td> <td>-30  </td>\n",
       "        </tr>\n",
       "        <tr>\n",
       "            <td>4     </td> <td>California</td> <td>39,437,610</td> <td>39,368,078</td> <td>448,160</td> <td>304,961</td> <td>-213,510 </td> <td>779  </td>\n",
       "        </tr>\n",
       "    </tbody>\n",
       "</table>\n",
       "<p>... (47 rows omitted)</p>"
      ],
      "text/plain": [
       "<IPython.core.display.HTML object>"
      ]
     },
     "metadata": {},
     "output_type": "display_data"
    }
   ],
   "source": [
    "# Don't change this cell; just run it.\n",
    "pop = Table.read_table('nst-est2020-alldata.csv').where('SUMLEV', 40).select([\"REGION\", \"NAME\", 'POPESTIMATE2019', 'POPESTIMATE2020', 'BIRTHS2020', 'DEATHS2020', 'NETMIG2020', 'RESIDUAL2020'])\n",
    "pop = pop.relabeled('POPESTIMATE2019', '2019').relabeled('POPESTIMATE2020', '2020')\n",
    "pop = pop.relabeled('BIRTHS2020', 'BIRTHS').relabeled('DEATHS2020', 'DEATHS')\n",
    "pop = pop.relabeled('NETMIG2020', 'MIGRATION').relabeled('RESIDUAL2020', 'OTHER')\n",
    "pop = pop.with_columns(\"REGION\", np.array([int(region) if region != \"X\" else 0 for region in pop.column(\"REGION\")]))\n",
    "pop.set_format([2, 3, 4, 5, 6, 7], NumberFormatter(decimals=0)).show(5)"
   ]
  },
  {
   "cell_type": "markdown",
   "metadata": {},
   "source": [
    "Each of the columns `BIRTHS`, `DEATHS`, `MIGRATION`, and `OTHER` represent a change in the population of the state between 2019 and 2020, measured in individual people, due to: \n",
    "\n",
    "* **Births**. This number represents how much the population has increased due to births.\n",
    "* **Deaths**. This number represents how much the population has decreased due to deaths. \n",
    "* **Migration**. This number represents how much the population has changed due to people moving in our out of the state. A positive number represents a net increase in the state population and a negative number represents a net decrease in the state population.\n",
    "* **Other** This number represents how much the population has changed due to all other reasons. A positive number represents a net increase in the state population and a negative number represents a net decrease in the state population."
   ]
  },
  {
   "cell_type": "raw",
   "metadata": {},
   "source": [
    "# BEGIN QUESTION\n",
    "name: q2_1"
   ]
  },
  {
   "cell_type": "markdown",
   "metadata": {
    "id": "UQ-dIXSk1GgD"
   },
   "source": [
    "#### Question 2.1.\n",
    "\n",
    "Investigate the national birth *rate* during this time period. Assign `us_birth_rate` to the total US annual birth rate during this time interval. The annual birth rate for a year-long period is the total number of births in that period as a proportion of the population size at the start of the time period.\n",
    "\n",
    "**Hint:** Which year corresponds to the start of the time period?"
   ]
  },
  {
   "cell_type": "raw",
   "metadata": {},
   "source": [
    "# BEGIN SOLUTION"
   ]
  },
  {
   "cell_type": "code",
   "execution_count": 22,
   "metadata": {
    "id": "8iTEnHFY1GgD",
    "outputId": "bef361e5-d093-4717-8fa7-09dcb422675f"
   },
   "outputs": [
    {
     "data": {
      "text/plain": [
       "0.011365697851904354"
      ]
     },
     "execution_count": 22,
     "metadata": {},
     "output_type": "execute_result"
    }
   ],
   "source": [
    "us_birth_rate = np.sum(pop.column('BIRTHS'))/np.sum(pop.column('2019')) # SOLUTION\n",
    "us_birth_rate"
   ]
  },
  {
   "cell_type": "raw",
   "metadata": {},
   "source": [
    "# END SOLUTION"
   ]
  },
  {
   "cell_type": "raw",
   "metadata": {},
   "source": [
    "# BEGIN TESTS"
   ]
  },
  {
   "cell_type": "code",
   "execution_count": 23,
   "metadata": {},
   "outputs": [
    {
     "data": {
      "text/plain": [
       "True"
      ]
     },
     "execution_count": 23,
     "metadata": {},
     "output_type": "execute_result"
    }
   ],
   "source": [
    "\"\"\" # BEGIN TEST CONFIG\n",
    "hidden: false\n",
    "points: 0.1\n",
    "success_message: ✅ Your birth rate is a single float\n",
    "failure_message: ❌ Your birth rate is not a float. Did you compute an array instead?\n",
    "\"\"\" # END TEST CONFIG\n",
    "\n",
    "type(us_birth_rate) == float or type(us_birth_rate)== np.float64"
   ]
  },
  {
   "cell_type": "code",
   "execution_count": 24,
   "metadata": {
    "id": "eYAVQAVl1GgE",
    "outputId": "845469b7-abb9-4322-d46d-9403fa50875c"
   },
   "outputs": [
    {
     "data": {
      "text/plain": [
       "True"
      ]
     },
     "execution_count": 24,
     "metadata": {},
     "output_type": "execute_result"
    }
   ],
   "source": [
    "\"\"\" # BEGIN TEST CONFIG\n",
    "hidden: false\n",
    "points: 0.15\n",
    "success_message: ✅ Your birth rate is a proportion between 0 and 1\n",
    "failure_message: ❌ Your birth rate is not a number between 0 and 1. Remember, the birth rate should be a proportion.\n",
    "\"\"\" # END TEST CONFIG\n",
    "\n",
    "0 < us_birth_rate < 1"
   ]
  },
  {
   "cell_type": "code",
   "execution_count": 25,
   "metadata": {
    "id": "Y1Ufp9BY1GgE",
    "outputId": "6fa8fdfb-bffb-4b0c-b8bd-ccf98d56967a"
   },
   "outputs": [
    {
     "data": {
      "text/plain": [
       "True"
      ]
     },
     "execution_count": 25,
     "metadata": {},
     "output_type": "execute_result"
    }
   ],
   "source": [
    "\"\"\" # BEGIN TEST CONFIG\n",
    "hidden: true\n",
    "points: 0.75\n",
    "\"\"\" # END TEST CONFIG\n",
    "\n",
    "us_birth_rate == np.sum(pop.column('BIRTHS'))/np.sum(pop.column('2019'))"
   ]
  },
  {
   "cell_type": "raw",
   "metadata": {},
   "source": [
    "# END TESTS"
   ]
  },
  {
   "cell_type": "raw",
   "metadata": {},
   "source": [
    "# END QUESTION"
   ]
  },
  {
   "cell_type": "raw",
   "metadata": {},
   "source": [
    "# BEGIN QUESTION\n",
    "name: q2_2"
   ]
  },
  {
   "cell_type": "markdown",
   "metadata": {
    "id": "yCsAbtyI1GgF"
   },
   "source": [
    "#### Question 2.2.\n",
    "\n",
    "Investigate the states who had a relatively large percentage of their population move either into the state or out of the state. Use Table and array methods to determine the **number of states** that had more than 0.5% of their population move in or out. The annual rate of migration for a year-long period is the net number of migrations (in and out) as a proportion of the population size at the start of the period. \n",
    "\n",
    "Start by creating an extension to the `population` Table named `migration_rates` that contains a new column that contains the value of the **annual *net* rate of migration** for each state. Then, determine how many states had net migration rates higher than 0.5%.\n",
    "\n"
   ]
  },
  {
   "cell_type": "raw",
   "metadata": {},
   "source": [
    "# BEGIN SOLUTION"
   ]
  },
  {
   "cell_type": "code",
   "execution_count": 26,
   "metadata": {
    "id": "N4FwdLLw1GgF",
    "outputId": "f1ad7d29-9e42-44f1-bcdd-a4e862b6715c"
   },
   "outputs": [
    {
     "data": {
      "text/plain": [
       "20"
      ]
     },
     "execution_count": 26,
     "metadata": {},
     "output_type": "execute_result"
    }
   ],
   "source": [
    "migration_rates = pop.with_column('Migration Rate', np.abs(pop.column('MIGRATION')/pop.column('2019'))) # SOLUTION\n",
    "movers = migration_rates.where('Migration Rate', are.above(0.005)).num_rows # SOLUTION\n",
    "movers"
   ]
  },
  {
   "cell_type": "raw",
   "metadata": {},
   "source": [
    "# END SOLUTION"
   ]
  },
  {
   "cell_type": "raw",
   "metadata": {},
   "source": [
    "# BEGIN TESTS"
   ]
  },
  {
   "cell_type": "code",
   "execution_count": 27,
   "metadata": {},
   "outputs": [
    {
     "data": {
      "text/plain": [
       "True"
      ]
     },
     "execution_count": 27,
     "metadata": {},
     "output_type": "execute_result"
    }
   ],
   "source": [
    "\"\"\" # BEGIN TEST CONFIG\n",
    "hidden: false\n",
    "points: 0\n",
    "success_message: ✅ `migration_rates` is a Table\n",
    "failure_message: ❌ `migration_rates` is not a Table\n",
    "\"\"\" # END TEST CONFIG\n",
    "\n",
    "type(migration_rates) == Table"
   ]
  },
  {
   "cell_type": "code",
   "execution_count": 28,
   "metadata": {},
   "outputs": [
    {
     "data": {
      "text/plain": [
       "True"
      ]
     },
     "execution_count": 28,
     "metadata": {},
     "output_type": "execute_result"
    }
   ],
   "source": [
    "\"\"\" # BEGIN TEST CONFIG\n",
    "hidden: false\n",
    "points: 0\n",
    "success_message: ✅ `movers` is an intger\n",
    "failure_message: ❌ `movers` is not an integer\n",
    "\"\"\" # END TEST CONFIG\n",
    "\n",
    "type(movers) == int or type(mover) == np.int64"
   ]
  },
  {
   "cell_type": "code",
   "execution_count": 29,
   "metadata": {
    "id": "M0bzucmG1GgG",
    "outputId": "baa7467e-cfc9-4f60-8d5a-877962d831b9"
   },
   "outputs": [
    {
     "data": {
      "text/plain": [
       "True"
      ]
     },
     "execution_count": 29,
     "metadata": {},
     "output_type": "execute_result"
    }
   ],
   "source": [
    "\"\"\" # BEGIN TEST CONFIG\n",
    "hidden: false\n",
    "points: 0.1\n",
    "success_message: ✅ `movers` is a number between 0 and 52\n",
    "failure_message: ❌ `movers` is not a number between 0 and 52, but it should be since it represents a count of states in the USA\n",
    "\"\"\" # END TEST CONFIG\n",
    "\n",
    "0 < movers <= 52"
   ]
  },
  {
   "cell_type": "code",
   "execution_count": 30,
   "metadata": {},
   "outputs": [
    {
     "data": {
      "text/plain": [
       "True"
      ]
     },
     "execution_count": 30,
     "metadata": {},
     "output_type": "execute_result"
    }
   ],
   "source": [
    "\"\"\" # BEGIN TEST CONFIG\n",
    "hidden: false\n",
    "points: 0.1\n",
    "success_message: ✅ You avoided a common mistake of only counting states with positive migration rates over 0.5 percent\n",
    "failure_message: ❌ `movers` currently is counting only the states with positive migration rates over 0.5 percent, but it should count both the positive and negative rates over 0.5 percent\n",
    "\"\"\" # END TEST CONFIG\n",
    "\n",
    "movers != 14"
   ]
  },
  {
   "cell_type": "code",
   "execution_count": 31,
   "metadata": {
    "id": "rBdNb1H91GgJ",
    "outputId": "6705a229-635c-4608-bd7e-201fcda3de1a"
   },
   "outputs": [
    {
     "data": {
      "text/plain": [
       "20"
      ]
     },
     "execution_count": 31,
     "metadata": {},
     "output_type": "execute_result"
    }
   ],
   "source": [
    "\"\"\" # BEGIN TEST CONFIG\n",
    "hidden: true\n",
    "points: 0.8\n",
    "\"\"\" # END TEST CONFIG\n",
    "\n",
    "movers"
   ]
  },
  {
   "cell_type": "raw",
   "metadata": {},
   "source": [
    "# END TESTS"
   ]
  },
  {
   "cell_type": "raw",
   "metadata": {},
   "source": [
    "# END QUESTION"
   ]
  },
  {
   "cell_type": "raw",
   "metadata": {},
   "source": [
    "# BEGIN QUESTION\n",
    "name: q2_3"
   ]
  },
  {
   "cell_type": "markdown",
   "metadata": {
    "id": "41KhxqWh1GgJ"
   },
   "source": [
    "#### Question 2.3.\n",
    "\n",
    "Investigate the total number of births that occurred in the Southeastern US between 2019 and 2020. Use Table and array methods to assign the total number of births, an integer, that occurred in region 3 (the Southeastern US) to `southeast_births`."
   ]
  },
  {
   "cell_type": "raw",
   "metadata": {},
   "source": [
    "# BEGIN SOLUTION"
   ]
  },
  {
   "cell_type": "code",
   "execution_count": 32,
   "metadata": {
    "id": "XSOcMn--1GgK",
    "outputId": "b2880d6d-f8c6-4850-ae6f-cec915aa1550"
   },
   "outputs": [
    {
     "data": {
      "text/plain": [
       "1473609"
      ]
     },
     "execution_count": 32,
     "metadata": {},
     "output_type": "execute_result"
    }
   ],
   "source": [
    "southeast_births = np.sum(pop.where('REGION', are.equal_to(3)).column('BIRTHS')) # SOLUTION\n",
    "southeast_births"
   ]
  },
  {
   "cell_type": "raw",
   "metadata": {},
   "source": [
    "# END SOLUTION"
   ]
  },
  {
   "cell_type": "raw",
   "metadata": {},
   "source": [
    "# BEGIN TESTS"
   ]
  },
  {
   "cell_type": "code",
   "execution_count": 33,
   "metadata": {},
   "outputs": [
    {
     "data": {
      "text/plain": [
       "True"
      ]
     },
     "execution_count": 33,
     "metadata": {},
     "output_type": "execute_result"
    }
   ],
   "source": [
    "\"\"\" # BEGIN TEST CONFIG\n",
    "hidden: false\n",
    "points: 0.1\n",
    "success_message: ✅ `southeast_births` is an integer\n",
    "failure_message: ❌ `southeast_births` is not an intger\n",
    "\"\"\" # END TEST CONFIG\n",
    "\n",
    "type(southeast_births) == int or type(southeast_births) == np.int64"
   ]
  },
  {
   "cell_type": "code",
   "execution_count": 34,
   "metadata": {
    "id": "saeT45Xc1GgK",
    "outputId": "71aa5413-7222-4a04-e2f4-f665f5d19098"
   },
   "outputs": [
    {
     "data": {
      "text/plain": [
       "True"
      ]
     },
     "execution_count": 34,
     "metadata": {},
     "output_type": "execute_result"
    }
   ],
   "source": [
    "\"\"\" # BEGIN TEST CONFIG\n",
    "hidden: false\n",
    "points: 0.1\n",
    "success_message: ✅ `southeast_births` is correctly between 1,000,000 and 2,000,000.\n",
    "failure_message: ❌ `southeast_births` is not between 1 and 2 million, which it should be. Are you including too many or too few states?\n",
    "\"\"\" # END TEST CONFIG\n",
    "\n",
    "1e6 < southeast_births < 2e6"
   ]
  },
  {
   "cell_type": "code",
   "execution_count": 35,
   "metadata": {
    "id": "nicdTCq61GgK",
    "outputId": "d77f2fee-003e-4803-ed6a-c8432a39681b"
   },
   "outputs": [
    {
     "data": {
      "text/plain": [
       "1473609"
      ]
     },
     "execution_count": 35,
     "metadata": {},
     "output_type": "execute_result"
    }
   ],
   "source": [
    "\"\"\" # BEGIN TEST CONFIG\n",
    "hidden: true\n",
    "points: 0.8\n",
    "\"\"\" # END TEST CONFIG\n",
    "\n",
    "southeast_births"
   ]
  },
  {
   "cell_type": "raw",
   "metadata": {},
   "source": [
    "# END TESTS"
   ]
  },
  {
   "cell_type": "raw",
   "metadata": {},
   "source": [
    "# END QUESTION"
   ]
  },
  {
   "cell_type": "raw",
   "metadata": {},
   "source": [
    "# BEGIN QUESTION\n",
    "name: q2_4"
   ]
  },
  {
   "cell_type": "markdown",
   "metadata": {
    "id": "4ghvudlH1GgK"
   },
   "source": [
    "#### Question 2.4.\n",
    "\n",
    "Assign `less_than_south_births` to the **number of states** that had a total population in 2019 that was smaller than the **total *number of births* in region 3 (the Southeastern US)** during this time interval."
   ]
  },
  {
   "cell_type": "raw",
   "metadata": {},
   "source": [
    "# BEGIN SOLUTION"
   ]
  },
  {
   "cell_type": "code",
   "execution_count": 36,
   "metadata": {
    "id": "bG5_4NTQ1GgL",
    "outputId": "1d1f3753-7a4f-4c98-dff6-b55e11d82662"
   },
   "outputs": [
    {
     "data": {
      "text/plain": [
       "12"
      ]
     },
     "execution_count": 36,
     "metadata": {},
     "output_type": "execute_result"
    }
   ],
   "source": [
    "less_than_south_births = pop.where('2019', are.below(southeast_births)).num_rows # SOLUTION\n",
    "less_than_south_births"
   ]
  },
  {
   "cell_type": "raw",
   "metadata": {},
   "source": [
    "# END SOLUTION"
   ]
  },
  {
   "cell_type": "raw",
   "metadata": {},
   "source": [
    "# BEGIN TESTS"
   ]
  },
  {
   "cell_type": "code",
   "execution_count": 37,
   "metadata": {},
   "outputs": [
    {
     "data": {
      "text/plain": [
       "True"
      ]
     },
     "execution_count": 37,
     "metadata": {},
     "output_type": "execute_result"
    }
   ],
   "source": [
    "\"\"\" # BEGIN TEST CONFIG\n",
    "hidden: false\n",
    "points: 0.1\n",
    "success_message: ✅ `southeast_births` is an integer\n",
    "failure_message: ❌ `southeast_births` is not an intger\n",
    "\"\"\" # END TEST CONFIG\n",
    "\n",
    "type(less_than_south_births) == int or type(less_than_south_births) == np.int64"
   ]
  },
  {
   "cell_type": "code",
   "execution_count": 38,
   "metadata": {
    "id": "6PZmU5x91GgL",
    "outputId": "e7da7085-bd18-4411-b5ca-9097019a0bb2"
   },
   "outputs": [
    {
     "data": {
      "text/plain": [
       "True"
      ]
     },
     "execution_count": 38,
     "metadata": {},
     "output_type": "execute_result"
    }
   ],
   "source": [
    "\"\"\" # BEGIN TEST CONFIG\n",
    "hidden: false\n",
    "points: 0.1\n",
    "success_message: ✅ `less_than_south_births` is a number between 0 and 52\n",
    "failure_message: ❌ `less_than_south_births` is not a number between 0 and 52, but it should be since it represents a count of states in the USA\n",
    "\"\"\" # END TEST CONFIG\n",
    "\n",
    "0 <= less_than_south_births <= 52"
   ]
  },
  {
   "cell_type": "code",
   "execution_count": 39,
   "metadata": {
    "id": "2d6aSne61GgM",
    "outputId": "df9a0dcd-f971-4a83-a5d5-81980d603c7b"
   },
   "outputs": [
    {
     "data": {
      "text/plain": [
       "12"
      ]
     },
     "execution_count": 39,
     "metadata": {},
     "output_type": "execute_result"
    }
   ],
   "source": [
    "\"\"\" # BEGIN TEST CONFIG\n",
    "hidden: true\n",
    "points: 0.8\n",
    "\"\"\" # END TEST CONFIG\n",
    "\n",
    "less_than_south_births"
   ]
  },
  {
   "cell_type": "raw",
   "metadata": {},
   "source": [
    "# END TESTS"
   ]
  },
  {
   "cell_type": "raw",
   "metadata": {},
   "source": [
    "# END QUESTION"
   ]
  },
  {
   "cell_type": "raw",
   "metadata": {},
   "source": [
    "# BEGIN QUESTION\n",
    "name: q2_5\n",
    "manual: true"
   ]
  },
  {
   "cell_type": "markdown",
   "metadata": {
    "id": "omR27W4h1GgM"
   },
   "source": [
    "#### Question 2.5. \n",
    "\n",
    "In the next question, you will be creating a visualization to understand the relationship between birth and death rates. The annual death rate for a year-long period is the total number of deaths in that period as a proportion of the population size at the start of the time period.\n",
    "\n",
    "What visualization is most appropriate to see if there is an association between birth and death rates during a given time interval?\n",
    "\n",
    "1. Scatter Plot\n",
    "2. Line Graph\n",
    "3. Vertical Bar Chart\n",
    "4. Horizontal Chart\n",
    "5. Histogram\n",
    "\n",
    "Assign `visualization` below to the number corresponding to the correct visualization."
   ]
  },
  {
   "cell_type": "raw",
   "metadata": {},
   "source": [
    "# BEGIN SOLUTION"
   ]
  },
  {
   "cell_type": "code",
   "execution_count": 40,
   "metadata": {
    "id": "1ZeGSpuD1GgM"
   },
   "outputs": [],
   "source": [
    "visualization = 1 # SOLUTION"
   ]
  },
  {
   "cell_type": "raw",
   "metadata": {},
   "source": [
    "# END SOLUTION"
   ]
  },
  {
   "cell_type": "raw",
   "metadata": {},
   "source": [
    "# BEGIN TESTS"
   ]
  },
  {
   "cell_type": "code",
   "execution_count": 41,
   "metadata": {
    "id": "OCJn8J1K1GgN",
    "outputId": "856fa5f4-953e-420d-e0c0-11507964d77a"
   },
   "outputs": [
    {
     "data": {
      "text/plain": [
       "True"
      ]
     },
     "execution_count": 41,
     "metadata": {},
     "output_type": "execute_result"
    }
   ],
   "source": [
    "\"\"\" # BEGIN TEST CONFIG\n",
    "hidden: false\n",
    "points: 0\n",
    "success_message: ✅ You selected a valid choice (1, 2, 3, 4, or 5)\n",
    "failure_message: ❌ You did not select a valid choice (1, 2, 3, 4, or 5). Double check your assignment statement.\n",
    "\"\"\" # END TEST CONFIG\n",
    "\n",
    "visualization in [1, 2, 3, 4, 5]"
   ]
  },
  {
   "cell_type": "code",
   "execution_count": 42,
   "metadata": {
    "id": "xtkJ1mvf1GgN",
    "outputId": "16aa2feb-612d-4539-e4df-e5168c0a5bdd"
   },
   "outputs": [
    {
     "data": {
      "text/plain": [
       "1"
      ]
     },
     "execution_count": 42,
     "metadata": {},
     "output_type": "execute_result"
    }
   ],
   "source": [
    "\"\"\" # BEGIN TEST CONFIG\n",
    "hidden: true\n",
    "points: 1\n",
    "\"\"\" # END TEST CONFIG\n",
    "\n",
    "visualization"
   ]
  },
  {
   "cell_type": "raw",
   "metadata": {},
   "source": [
    "# END TESTS"
   ]
  },
  {
   "cell_type": "raw",
   "metadata": {},
   "source": [
    "# END QUESTION"
   ]
  },
  {
   "cell_type": "raw",
   "metadata": {},
   "source": [
    "# BEGIN QUESTION\n",
    "name: q2_6\n",
    "manual: true"
   ]
  },
  {
   "cell_type": "markdown",
   "metadata": {
    "id": "TlKY2vEr1GgP"
   },
   "source": [
    "#### Question 2.6. \n",
    "\n",
    "In the code cell below, create a visualization that will help us determine if there is an association between birth rate and death rate during this time interval. You can take as many steps as you need, as you may find it helpful to create a new Table before creating the visualization."
   ]
  },
  {
   "cell_type": "raw",
   "metadata": {},
   "source": [
    "# BEGIN SOLUTION"
   ]
  },
  {
   "cell_type": "code",
   "execution_count": 43,
   "metadata": {
    "id": "Q4UUMYnd1GgQ",
    "outputId": "c67122b7-6ad6-4f17-db5b-60f308de0a10"
   },
   "outputs": [
    {
     "data": {
      "image/png": "[encoded data removed]",
      "text/plain": [
       "<Figure size 500x500 with 1 Axes>"
      ]
     },
     "metadata": {},
     "output_type": "display_data"
    }
   ],
   "source": [
    "# Generate your chart in this cell\n",
    "pop.with_columns('Birth Rate', pop.column('BIRTHS')/pop.column('2019'), 'Death Rate', pop.column('DEATHS')/pop.column('2019')).scatter('Birth Rate','Death Rate') # SOLUTION"
   ]
  },
  {
   "cell_type": "raw",
   "metadata": {},
   "source": [
    "# END SOLUTION"
   ]
  },
  {
   "cell_type": "raw",
   "metadata": {},
   "source": [
    "# END QUESTION"
   ]
  },
  {
   "cell_type": "raw",
   "metadata": {},
   "source": [
    "# BEGIN QUESTION\n",
    "name: q2_7\n",
    "manual: true"
   ]
  },
  {
   "cell_type": "markdown",
   "metadata": {
    "id": "f0kKJ0_O1GgR"
   },
   "source": [
    "#### Question 2.7.\n",
    "\n",
    "Is there is an association between birth rate and death rate during this time interval? If so, how would you describe it? If not, how were you able to determine there was no association? **Write an explanation of your opinion backed by the data displayed in the visualization created in the previous question.** Offer an explanation as to why you believe it makes sense that there is or is not a correlation between these variables in context of the data. Meaning, why would it make sense for birth and death rates to have an association or not have an association?\n"
   ]
  },
  {
   "cell_type": "raw",
   "metadata": {},
   "source": [
    "# BEGIN SOLUTION"
   ]
  },
  {
   "cell_type": "markdown",
   "metadata": {
    "id": "C1xDq5hn1GgR"
   },
   "source": [
    "**SOLUTION:** There is a moderate to strong negative association between Birth Rate and Death Rate. The shape of the scatter plot shows a trend such that, in general, as birth rates increase death rates decrease. This may make sense because states that have good a good health care system or a population in good health would see both high birth rates (less infant mortality) and low death rates. States with a population in poor health or a bad health care system would see the opposite."
   ]
  },
  {
   "cell_type": "raw",
   "metadata": {},
   "source": [
    "# END SOLUTION"
   ]
  },
  {
   "cell_type": "raw",
   "metadata": {},
   "source": [
    "# END QUESTION"
   ]
  },
  {
   "cell_type": "markdown",
   "metadata": {
    "id": "pV9qm8Nn1GgT"
   },
   "source": [
    "## 3. Marginal Histograms\n"
   ]
  },
  {
   "cell_type": "markdown",
   "metadata": {
    "id": "jQjCuJ781GgT"
   },
   "source": [
    "Consider the following scatter plot: \n",
    "\n",
    "![](scatter.png)\n",
    "\n",
    "The axes of the plot represent values of two variables: $x$ and $y$. "
   ]
  },
  {
   "cell_type": "markdown",
   "metadata": {
    "id": "lAVZGjGI1GgT"
   },
   "source": [
    "Suppose we have a table called `t` that has two columns in it:\n",
    "\n",
    "- `x`: a column containing the x-values of the points in the scatter plot\n",
    "- `y`: a column containing the y-values of the points in the scatter plot"
   ]
  },
  {
   "cell_type": "markdown",
   "metadata": {
    "id": "pvgGTVdm1GgT"
   },
   "source": [
    "Below, you are given two histograms, each of which corresponds to either column `x` or column `y`. "
   ]
  },
  {
   "cell_type": "markdown",
   "metadata": {
    "id": "tU9Ei5mF1GgT"
   },
   "source": [
    "**Histogram A:** \n",
    "\n",
    "![](var1.png)\n",
    "\n",
    "**Histogram B:** \n",
    "\n",
    "![](var2.png)"
   ]
  },
  {
   "cell_type": "raw",
   "metadata": {},
   "source": [
    "# BEGIN QUESTION\n",
    "name: q3_1"
   ]
  },
  {
   "cell_type": "markdown",
   "metadata": {
    "id": "L3EsgbGM1GgU"
   },
   "source": [
    "#### Question 3.1.\n",
    "\n",
    "Suppose we run `t.hist('x')`. Which histogram does this code produce? Assign `histogram_column_x` to either 1 or 2.\n",
    "\n",
    "1. Histogram A\n",
    "2. Histogram B"
   ]
  },
  {
   "cell_type": "raw",
   "metadata": {},
   "source": [
    "# BEGIN SOLUTION"
   ]
  },
  {
   "cell_type": "code",
   "execution_count": 44,
   "metadata": {
    "id": "I_00VHuj1GgU"
   },
   "outputs": [],
   "source": [
    "histogram_column_x = 2 # SOLUTION"
   ]
  },
  {
   "cell_type": "raw",
   "metadata": {},
   "source": [
    "# END SOLUTION"
   ]
  },
  {
   "cell_type": "raw",
   "metadata": {},
   "source": [
    "# BEGIN TESTS"
   ]
  },
  {
   "cell_type": "code",
   "execution_count": 45,
   "metadata": {
    "id": "XXzoJVb51GgU",
    "outputId": "8ce06d29-b220-4dfd-e4ff-10926ff42889"
   },
   "outputs": [
    {
     "data": {
      "text/plain": [
       "True"
      ]
     },
     "execution_count": 45,
     "metadata": {},
     "output_type": "execute_result"
    }
   ],
   "source": [
    "\"\"\" # BEGIN TEST CONFIG\n",
    "hidden: false\n",
    "points: 0\n",
    "success_message: ✅ You chose a valid answer, either 1 or 2\n",
    "failure_message: ❌ You did not chose a valid answer. Make sure you assign the integer 1 or 2 to `histogram_column_x`\n",
    "\"\"\" # END TEST CONFIG\n",
    "\n",
    "histogram_column_x in [1, 2]"
   ]
  },
  {
   "cell_type": "code",
   "execution_count": 46,
   "metadata": {
    "id": "ax3Ou1rI1GgU",
    "outputId": "1fc6f212-527a-4d1e-f065-532deaaeba70"
   },
   "outputs": [
    {
     "data": {
      "text/plain": [
       "2"
      ]
     },
     "execution_count": 46,
     "metadata": {},
     "output_type": "execute_result"
    }
   ],
   "source": [
    "\"\"\" # BEGIN TEST CONFIG\n",
    "hidden: true\n",
    "points: 1\n",
    "\"\"\" # END TEST CONFIG\n",
    "\n",
    "histogram_column_x"
   ]
  },
  {
   "cell_type": "raw",
   "metadata": {},
   "source": [
    "# END TESTS"
   ]
  },
  {
   "cell_type": "raw",
   "metadata": {},
   "source": [
    "# END QUESTION"
   ]
  },
  {
   "cell_type": "raw",
   "metadata": {},
   "source": [
    "# BEGIN QUESTION\n",
    "name: q3_2\n",
    "manual: true"
   ]
  },
  {
   "cell_type": "markdown",
   "metadata": {
    "id": "PDeKTz4w1GgV"
   },
   "source": [
    "#### Question 3.2.\n",
    "\n",
    "State at least one reason why you chose the histogram from Question 3.1. Make sure to indicate which histogram you selected (ex: \"I chose histogram A because ...\") and cite one or more specific characteristics from the scatter plot to support your choice."
   ]
  },
  {
   "cell_type": "raw",
   "metadata": {},
   "source": [
    "# BEGIN SOLUTION"
   ]
  },
  {
   "cell_type": "markdown",
   "metadata": {
    "id": "9vr16a7X1GgV"
   },
   "source": [
    "**SOLUTION:** Because there are no gaps in the X-variable, we would expect the histogram for X to have no gaps in it. Also, because the two masses on the scatter plot overlap in the area between -1 and 0, we would expect there to be more mass in the -1 to 0 area of the histogram, since each vertical slice in this range contains more points. Also, the values of the X-variable range from -2 to 2, which fits the range of values in histogram B."
   ]
  },
  {
   "cell_type": "raw",
   "metadata": {},
   "source": [
    "# END SOLUTION"
   ]
  },
  {
   "cell_type": "raw",
   "metadata": {},
   "source": [
    "# END QUESTION"
   ]
  },
  {
   "cell_type": "markdown",
   "metadata": {
    "id": "XG3sZO6Z1GgW"
   },
   "source": [
    "## 4. Uber\n"
   ]
  },
  {
   "cell_type": "markdown",
   "metadata": {
    "id": "bxvsQRjQ1GgW"
   },
   "source": [
    "Every day millions of people use ride sharing apps, like Uber and Lyft, to get around their cities and towns. The [Uber Movement](https://movement.uber.com) project has released data on how people are traveling throughout some of the largest cities in the world. Investigate how Uber rides might be different in two large cities: Boston, MA in the USA and Manila in the Philippines.\n",
    "\n",
    "Each data set below contains 200,000 weekday Uber rides for each city. The `sourceid` and `dstid` columns contain codes corresponding to start and end locations of each ride. The `hod` column contains codes corresponding to the hour of the day the ride took place. The `ride time` column contains the length of the ride, in minutes.\n",
    "\n",
    "Run the cells below to load the data for both cities."
   ]
  },
  {
   "cell_type": "code",
   "execution_count": 47,
   "metadata": {
    "id": "qfE6QTLY1GgX",
    "outputId": "686c82fd-a150-4101-af7e-1bea7d7184c4"
   },
   "outputs": [
    {
     "data": {
      "text/html": [
       "<table border=\"1\" class=\"dataframe\">\n",
       "    <thead>\n",
       "        <tr>\n",
       "            <th>sourceid</th> <th>dstid</th> <th>hod</th> <th>ride time</th>\n",
       "        </tr>\n",
       "    </thead>\n",
       "    <tbody>\n",
       "        <tr>\n",
       "            <td>584     </td> <td>33   </td> <td>7   </td> <td>11.866   </td>\n",
       "        </tr>\n",
       "        <tr>\n",
       "            <td>1013    </td> <td>1116 </td> <td>13  </td> <td>17.7993  </td>\n",
       "        </tr>\n",
       "        <tr>\n",
       "            <td>884     </td> <td>1190 </td> <td>22  </td> <td>19.3488  </td>\n",
       "        </tr>\n",
       "        <tr>\n",
       "            <td>211     </td> <td>364  </td> <td>1   </td> <td>1.7235   </td>\n",
       "        </tr>\n",
       "        <tr>\n",
       "            <td>218     </td> <td>1189 </td> <td>7   </td> <td>42.5588  </td>\n",
       "        </tr>\n",
       "        <tr>\n",
       "            <td>1048    </td> <td>461  </td> <td>7   </td> <td>26.4212  </td>\n",
       "        </tr>\n",
       "        <tr>\n",
       "            <td>879     </td> <td>461  </td> <td>11  </td> <td>23.7743  </td>\n",
       "        </tr>\n",
       "        <tr>\n",
       "            <td>1047    </td> <td>1002 </td> <td>17  </td> <td>36.3583  </td>\n",
       "        </tr>\n",
       "        <tr>\n",
       "            <td>930     </td> <td>856  </td> <td>6   </td> <td>16.6407  </td>\n",
       "        </tr>\n",
       "        <tr>\n",
       "            <td>1110    </td> <td>875  </td> <td>22  </td> <td>17.3533  </td>\n",
       "        </tr>\n",
       "    </tbody>\n",
       "</table>\n",
       "<p>... (199990 rows omitted)</p>"
      ],
      "text/plain": [
       "sourceid | dstid | hod  | ride time\n",
       "584      | 33    | 7    | 11.866\n",
       "1013     | 1116  | 13   | 17.7993\n",
       "884      | 1190  | 22   | 19.3488\n",
       "211      | 364   | 1    | 1.7235\n",
       "218      | 1189  | 7    | 42.5588\n",
       "1048     | 461   | 7    | 26.4212\n",
       "879      | 461   | 11   | 23.7743\n",
       "1047     | 1002  | 17   | 36.3583\n",
       "930      | 856   | 6    | 16.6407\n",
       "1110     | 875   | 22   | 17.3533\n",
       "... (199990 rows omitted)"
      ]
     },
     "execution_count": 47,
     "metadata": {},
     "output_type": "execute_result"
    }
   ],
   "source": [
    "boston = Table.read_table(\"boston.csv\")\n",
    "boston"
   ]
  },
  {
   "cell_type": "code",
   "execution_count": 48,
   "metadata": {},
   "outputs": [
    {
     "data": {
      "text/html": [
       "<table border=\"1\" class=\"dataframe\">\n",
       "    <thead>\n",
       "        <tr>\n",
       "            <th>sourceid</th> <th>dstid</th> <th>hod</th> <th>ride time</th>\n",
       "        </tr>\n",
       "    </thead>\n",
       "    <tbody>\n",
       "        <tr>\n",
       "            <td>544     </td> <td>5    </td> <td>22  </td> <td>22.8115  </td>\n",
       "        </tr>\n",
       "        <tr>\n",
       "            <td>302     </td> <td>240  </td> <td>21  </td> <td>7.02267  </td>\n",
       "        </tr>\n",
       "        <tr>\n",
       "            <td>278     </td> <td>99   </td> <td>16  </td> <td>21.6437  </td>\n",
       "        </tr>\n",
       "        <tr>\n",
       "            <td>720     </td> <td>775  </td> <td>18  </td> <td>13.0597  </td>\n",
       "        </tr>\n",
       "        <tr>\n",
       "            <td>599     </td> <td>125  </td> <td>9   </td> <td>49.685   </td>\n",
       "        </tr>\n",
       "        <tr>\n",
       "            <td>611     </td> <td>397  </td> <td>18  </td> <td>28.0117  </td>\n",
       "        </tr>\n",
       "        <tr>\n",
       "            <td>364     </td> <td>300  </td> <td>21  </td> <td>9.856    </td>\n",
       "        </tr>\n",
       "        <tr>\n",
       "            <td>813     </td> <td>618  </td> <td>14  </td> <td>43.375   </td>\n",
       "        </tr>\n",
       "        <tr>\n",
       "            <td>516     </td> <td>344  </td> <td>19  </td> <td>31.7333  </td>\n",
       "        </tr>\n",
       "        <tr>\n",
       "            <td>591     </td> <td>444  </td> <td>1   </td> <td>18.7208  </td>\n",
       "        </tr>\n",
       "    </tbody>\n",
       "</table>\n",
       "<p>... (199990 rows omitted)</p>"
      ],
      "text/plain": [
       "sourceid | dstid | hod  | ride time\n",
       "544      | 5     | 22   | 22.8115\n",
       "302      | 240   | 21   | 7.02267\n",
       "278      | 99    | 16   | 21.6437\n",
       "720      | 775   | 18   | 13.0597\n",
       "599      | 125   | 9    | 49.685\n",
       "611      | 397   | 18   | 28.0117\n",
       "364      | 300   | 21   | 9.856\n",
       "813      | 618   | 14   | 43.375\n",
       "516      | 344   | 19   | 31.7333\n",
       "591      | 444   | 1    | 18.7208\n",
       "... (199990 rows omitted)"
      ]
     },
     "execution_count": 48,
     "metadata": {},
     "output_type": "execute_result"
    }
   ],
   "source": [
    "manila = Table.read_table(\"manila.csv\")\n",
    "manila"
   ]
  },
  {
   "cell_type": "raw",
   "metadata": {},
   "source": [
    "# BEGIN QUESTION\n",
    "name: q4_1\n",
    "manual: true"
   ]
  },
  {
   "cell_type": "markdown",
   "metadata": {
    "id": "54V_D-Ph1GgX"
   },
   "source": [
    "#### Question 4.1.\n",
    "\n",
    "To start investigating the differences in these two cities, visualize the distribution of ride times in each of the cities.\n",
    "\n",
    "Produce two histograms, one for each city, that shows the distribution of all ride times. Use the provided bin sizes that are stored to the array `equal_bins` and **assign the horizontal label to have the correct units**. Need to remember how? Reread [7.2.2: Histograms ](https://inferentialthinking.com/chapters/07/2/Visualizing_Numerical_Distributions.html#histogram) in the textbook!"
   ]
  },
  {
   "cell_type": "raw",
   "metadata": {},
   "source": [
    "# BEGIN SOLUTION"
   ]
  },
  {
   "cell_type": "code",
   "execution_count": 49,
   "metadata": {
    "id": "ueSgilO51GgX",
    "outputId": "bf968c7e-ce74-4cc0-9702-76d02e2f0410"
   },
   "outputs": [
    {
     "data": {
      "image/png": "[encoded data removed]",
      "text/plain": [
       "<Figure size 600x400 with 1 Axes>"
      ]
     },
     "metadata": {},
     "output_type": "display_data"
    },
    {
     "data": {
      "image/png": "[encoded data removed]",
      "text/plain": [
       "<Figure size 600x400 with 1 Axes>"
      ]
     },
     "metadata": {},
     "output_type": "display_data"
    }
   ],
   "source": [
    "equal_bins = np.arange(0, 120, 5)\n",
    "boston.select('ride time').hist(bins = equal_bins, unit=\"minutes\") # SOLUTION\n",
    "manila.select('ride time').hist(bins = equal_bins, unit=\"minutes\") # SOLUTION"
   ]
  },
  {
   "cell_type": "raw",
   "metadata": {},
   "source": [
    "# END SOLUTION"
   ]
  },
  {
   "cell_type": "raw",
   "metadata": {},
   "source": [
    "# END QUESTION"
   ]
  },
  {
   "cell_type": "raw",
   "metadata": {},
   "source": [
    "# BEGIN QUESTION\n",
    "name: q4_2"
   ]
  },
  {
   "cell_type": "markdown",
   "metadata": {
    "id": "mw65Nyox1GgY"
   },
   "source": [
    "#### Question 4.2.\n",
    "\n",
    "Assign `boston_under_10` and `manila_under_10` to the percentage of rides that are less than 10 minutes in their respective metropolitan areas. The table below shows you the height of each bar in the histogram, measured in percent per minute, for the first few bars of the histograms you produced in the previous question.\n",
    "\n",
    "| bin | Boston | Manilla |\n",
    "|-----|--------|---------|\n",
    "|[0, 5) | 1.2 | 0.6 |\n",
    "|[5, 10) | 3.2 | 1.4 |\n",
    "|[10, 15) | 4.95| 2.25|\n",
    "|[15, 20) | 4.6 | 2.55 |\n",
    "\n",
    "Your solution should be determined using only the information in this table, and you should not access the tables `boston` and `manila` in any way."
   ]
  },
  {
   "cell_type": "raw",
   "metadata": {},
   "source": [
    "# BEGIN SOLUTION"
   ]
  },
  {
   "cell_type": "code",
   "execution_count": 50,
   "metadata": {
    "id": "K7pQGmnS1GgY"
   },
   "outputs": [],
   "source": [
    "boston_under_10 = 5*1.2 + 5*3.2 # SOLUTION\n",
    "manila_under_10 = 5*0.6 + 5*1.4 # SOLUTION"
   ]
  },
  {
   "cell_type": "raw",
   "metadata": {},
   "source": [
    "# END SOLUTION"
   ]
  },
  {
   "cell_type": "raw",
   "metadata": {},
   "source": [
    "# BEGIN TESTS"
   ]
  },
  {
   "cell_type": "code",
   "execution_count": 51,
   "metadata": {
    "id": "DH6mV0lI1GgY",
    "outputId": "5be76234-a94b-4fb0-bef2-fbe8c626bed3"
   },
   "outputs": [
    {
     "data": {
      "text/plain": [
       "True"
      ]
     },
     "execution_count": 51,
     "metadata": {},
     "output_type": "execute_result"
    }
   ],
   "source": [
    "\"\"\" # BEGIN TEST CONFIG\n",
    "hidden: false\n",
    "points: 0.1\n",
    "success_message: ✅ `boston_under_10` is between 0 and 100, which makes sense since it represents a percentage\n",
    "failure_message: ❌ `boston_under_10` is not between 0 and 100, but it should since it represents a percentage\n",
    "\"\"\" # END TEST CONFIG\n",
    "\n",
    "boston_under_10 >=0 and boston_under_10 <= 100"
   ]
  },
  {
   "cell_type": "code",
   "execution_count": 52,
   "metadata": {
    "id": "KSXO4UMT1GgY",
    "outputId": "be4f1a2d-ee01-4910-fc0c-5b4d8f0ad2a7"
   },
   "outputs": [
    {
     "data": {
      "text/plain": [
       "True"
      ]
     },
     "execution_count": 52,
     "metadata": {},
     "output_type": "execute_result"
    }
   ],
   "source": [
    "\"\"\" # BEGIN TEST CONFIG\n",
    "hidden: false\n",
    "points: 0.1\n",
    "success_message: ✅ `manila_under_10` is between 0 and 100, which makes sense since it represents a percentage\n",
    "failure_message: ❌ `manila_under_10` is not between 0 and 100, but it should since it represents a percentage\n",
    "\"\"\" # END TEST CONFIG\n",
    "\n",
    "manila_under_10 >=0 and manila_under_10 <= 100"
   ]
  },
  {
   "cell_type": "code",
   "execution_count": 53,
   "metadata": {
    "id": "SZap7NKM1GgY",
    "outputId": "2784b56a-eb5e-460c-dd05-ef9460ae6eea"
   },
   "outputs": [
    {
     "data": {
      "text/plain": [
       "22.0"
      ]
     },
     "execution_count": 53,
     "metadata": {},
     "output_type": "execute_result"
    }
   ],
   "source": [
    "\"\"\" # BEGIN TEST CONFIG\n",
    "hidden: true\n",
    "points: 0.4\n",
    "\"\"\" # END TEST CONFIG\n",
    "\n",
    "boston_under_10"
   ]
  },
  {
   "cell_type": "code",
   "execution_count": 54,
   "metadata": {
    "id": "iUPGm4FG1GgZ",
    "outputId": "432b2c87-7a4f-440c-89f0-c79dfe1f7e2d"
   },
   "outputs": [
    {
     "data": {
      "text/plain": [
       "10.0"
      ]
     },
     "execution_count": 54,
     "metadata": {},
     "output_type": "execute_result"
    }
   ],
   "source": [
    "\"\"\" # BEGIN TEST CONFIG\n",
    "hidden: true\n",
    "points: 0.4\n",
    "\"\"\" # END TEST CONFIG\n",
    "\n",
    "manila_under_10"
   ]
  },
  {
   "cell_type": "raw",
   "metadata": {},
   "source": [
    "# END TESTS"
   ]
  },
  {
   "cell_type": "raw",
   "metadata": {},
   "source": [
    "# END QUESTION"
   ]
  },
  {
   "cell_type": "raw",
   "metadata": {},
   "source": [
    "# BEGIN QUESTION\n",
    "name: q4_3"
   ]
  },
  {
   "cell_type": "markdown",
   "metadata": {
    "id": "kYmD7VgI1GgZ"
   },
   "source": [
    "#### Question 4.3.\n",
    "\n",
    "Let's take a closer look at the distribution of ride times in Manila. Assign `manila_median_bin` to an integer (1, 2, 3, or 4) that corresponds to the bin that contains the median time \n",
    "\n",
    "1. 0-15 minutes  \n",
    "2. 15-40 minutes  \n",
    "3. 40-60 minutes  \n",
    "4. 60-80 minutes  \n",
    "\n",
    "**Hint:** The median of a sorted list has half of the list elements to its left, and half to its right"
   ]
  },
  {
   "cell_type": "raw",
   "metadata": {},
   "source": [
    "# BEGIN SOLUTION"
   ]
  },
  {
   "cell_type": "code",
   "execution_count": 55,
   "metadata": {
    "id": "aQH9DlFy1GgZ"
   },
   "outputs": [],
   "source": [
    "manila_median_bin = 2 # SOLUTION"
   ]
  },
  {
   "cell_type": "raw",
   "metadata": {},
   "source": [
    "# END SOLUTION"
   ]
  },
  {
   "cell_type": "raw",
   "metadata": {},
   "source": [
    "# BEGIN TESTS"
   ]
  },
  {
   "cell_type": "code",
   "execution_count": 56,
   "metadata": {
    "id": "yeFdVIdc1GgZ",
    "outputId": "b588849b-db1e-459b-bb7b-4a6f0743d103"
   },
   "outputs": [
    {
     "data": {
      "text/plain": [
       "True"
      ]
     },
     "execution_count": 56,
     "metadata": {},
     "output_type": "execute_result"
    }
   ],
   "source": [
    "\"\"\" # BEGIN TEST CONFIG\n",
    "hidden: false\n",
    "points: 0\n",
    "success_message: ✅ You selected a valid choice (1, 2, 3, or 4)\n",
    "failure_message: ❌ You did not select a valid choice (1, 2, 3, or 4)\n",
    "\"\"\" # END TEST CONFIG\n",
    "\n",
    "manila_median_bin in [1,2,3,4]"
   ]
  },
  {
   "cell_type": "code",
   "execution_count": 57,
   "metadata": {
    "id": "aaEIc9fv1Gga",
    "outputId": "230b451a-5110-409c-b563-d574cc2fadad"
   },
   "outputs": [
    {
     "data": {
      "text/plain": [
       "True"
      ]
     },
     "execution_count": 57,
     "metadata": {},
     "output_type": "execute_result"
    }
   ],
   "source": [
    "\"\"\" # BEGIN TEST CONFIG\n",
    "hidden: true\n",
    "points: 1\n",
    "\"\"\" # END TEST CONFIG\n",
    "\n",
    "manila_median_bin == 2"
   ]
  },
  {
   "cell_type": "raw",
   "metadata": {},
   "source": [
    "# END TESTS"
   ]
  },
  {
   "cell_type": "raw",
   "metadata": {},
   "source": [
    "# END QUESTION"
   ]
  },
  {
   "cell_type": "raw",
   "metadata": {},
   "source": [
    "# BEGIN QUESTION\n",
    "name: q4_4\n",
    "manual: true"
   ]
  },
  {
   "cell_type": "markdown",
   "metadata": {
    "id": "Z_12Yx1t1Gga"
   },
   "source": [
    "#### Question 4.4.\n",
    "\n",
    "Describe the main differences between the two histograms / the differences between the distributions of Uber ride lengths in these two cities. What about these two cities might be causing the differences in the distributions of ride times? \n",
    "\n",
    "**Write an explanation** of your opinion backed by the data displayed in the histograms created in the previous questions, and any additional statistical analysis you perform. Cite specific qualities of these cities when possible to add context to your explanation."
   ]
  },
  {
   "cell_type": "raw",
   "metadata": {},
   "source": [
    "# BEGIN SOLUTION"
   ]
  },
  {
   "cell_type": "markdown",
   "metadata": {
    "id": "Wj-o3Wpk1Gga"
   },
   "source": [
    "**SOLUTION:** Long rides make up a greater proportion of all Uber rides in Manila than in Boston. This could be because there's more traffic in Manila, or because the weather is not pleasant in Boston in the winter, so people may choose to take a car for short trips rather than walk."
   ]
  },
  {
   "cell_type": "raw",
   "metadata": {},
   "source": [
    "# END SOLUTION"
   ]
  },
  {
   "cell_type": "raw",
   "metadata": {},
   "source": [
    "# END QUESTION"
   ]
  },
  {
   "cell_type": "markdown",
   "metadata": {
    "id": "jLUMbuI21Gga"
   },
   "source": [
    "# Submitting your work\n",
    "You're done with this assignment! Assignments should be turned in using the following best practices:\n",
    "1. Save your notebook.\n",
    "2. Restart the kernel and run all cells up to this one.\n",
    "3. Run the cell below with the code `grader.export(...)`. This will re-run all the tests. Make sure they are passing as you expect them to.\n",
    "4. Download the file named `hw03_<date-time-stamp>.zip`, found in the explorer pane on the left side of the screen. **Note**: Clicking on the link in this notebook may result in an error, it's best to download from the file explorer panel.\n",
    "5. Upload `hw03_<date-time-stamp>.zip` to the corresponding assignment on Canvas."
   ]
  }
 ],
 "metadata": {
  "colab": {
   "name": "hw03.ipynb",
   "provenance": []
  },
  "kernelspec": {
   "display_name": "Python 3 (ipykernel)",
   "language": "python",
   "name": "python3"
  },
  "language_info": {
   "codemirror_mode": {
    "name": "ipython",
    "version": 3
   },
   "file_extension": ".py",
   "mimetype": "text/x-python",
   "name": "python",
   "nbconvert_exporter": "python",
   "pygments_lexer": "ipython3",
   "version": "3.11.4"
  }
 },
 "nbformat": 4,
 "nbformat_minor": 4
}
